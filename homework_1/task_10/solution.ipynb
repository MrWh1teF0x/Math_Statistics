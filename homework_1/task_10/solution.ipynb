{
 "cells": [
  {
   "cell_type": "markdown",
   "metadata": {},
   "source": [
    "# Задача 10\n",
    "## При снятии показаний измерительного прибора десятые доли деления шкалы прибора оцениваются \"на глаз\" наблюдателем. Количества цифр 0, 1, 2, ..., 9, записанных наблюдателем в качестве десятых долей при 100 независимых измерениях, равны 5, 8, 6, 12, 14, 18, 11, 6, 13, 7 соответственно."
   ]
  },
  {
   "cell_type": "markdown",
   "metadata": {},
   "source": [
    "### a) Проверить гипотезу о согласии данных с законом равномерного распределения с помощью критерия ${\\displaystyle \\chi ^{2}}$ и с помощью критерия Колмогорова. Сравнить результаты."
   ]
  },
  {
   "cell_type": "markdown",
   "metadata": {},
   "source": [
    "### Закон равномерного распределения:\n",
    "![](img/page_01.jpg)\n",
    "![](img/page_02.jpg)"
   ]
  },
  {
   "cell_type": "markdown",
   "metadata": {},
   "source": [
    "### Критерий Колмогорова:"
   ]
  },
  {
   "cell_type": "code",
   "execution_count": 247,
   "metadata": {},
   "outputs": [
    {
     "data": {
      "text/html": [
       "<pre style=\"white-space:pre;overflow-x:auto;line-height:normal;font-family:Menlo,'DejaVu Sans Mono',consolas,'Courier New',monospace\">Δ = <span style=\"color: #008080; text-decoration-color: #008080; font-weight: bold\">1.4000000000000001</span>\n",
       "</pre>\n"
      ],
      "text/plain": [
       "Δ = \u001b[1;36m1.4000000000000001\u001b[0m\n"
      ]
     },
     "metadata": {},
     "output_type": "display_data"
    },
    {
     "data": {
      "text/html": [
       "<pre style=\"white-space:pre;overflow-x:auto;line-height:normal;font-family:Menlo,'DejaVu Sans Mono',consolas,'Courier New',monospace\">p-value = <span style=\"color: #008080; text-decoration-color: #008080; font-weight: bold\">0.03968187953811442</span>\n",
       "</pre>\n"
      ],
      "text/plain": [
       "p-value = \u001b[1;36m0.03968187953811442\u001b[0m\n"
      ]
     },
     "metadata": {},
     "output_type": "display_data"
    }
   ],
   "source": [
    "import numpy as np\n",
    "import scipy.integrate\n",
    "from rich.console import Console\n",
    "from rich.table import Table\n",
    "from rich.panel import Panel\n",
    "\n",
    "console = Console()\n",
    "\n",
    "n = 100\n",
    "m = [5, 8, 6, 12, 14, 18, 11, 6, 13, 7]\n",
    "\n",
    "\n",
    "def K(x: float) -> float:\n",
    "    res = 1\n",
    "    for k in range(1, 100001):\n",
    "        res += 2 * (-1) ** k * np.exp(-2 * k**2 * x**2)\n",
    "    return res\n",
    "\n",
    "\n",
    "F_emp = [sum(m[:i]) / n for i in range(len(m) + 1)]\n",
    "F = [10 * i / n for i in range(len(m))]\n",
    "\n",
    "delta = np.sqrt(n) * max(\n",
    "    [max(abs(F_emp[i] - F[i]), abs(F_emp[i + 1] - F[i])) for i in range(len(F))]\n",
    ")\n",
    "\n",
    "console.print(f\"Δ = {delta}\")\n",
    "\n",
    "p_value = 1 - K(delta)\n",
    "\n",
    "console.print(f\"p-value = {p_value}\")"
   ]
  },
  {
   "cell_type": "markdown",
   "metadata": {},
   "source": [
    "#### Так как p-value < 0.05, мы отвергаем гипотезу H0.\n",
    "#### Получается, что у критерия ${\\displaystyle \\chi ^{2}}$ нет оснований отвергнуть гипотезу, а критерий Колмогорова отвергает H0."
   ]
  },
  {
   "cell_type": "markdown",
   "metadata": {},
   "source": [
    "### b) Проверить гипотезу о согласии данных с законом нормального распределения с помощью критерия ${\\displaystyle \\chi ^{2}}$ и с помощью критерия Колмогорова. Сравнить результаты."
   ]
  },
  {
   "cell_type": "markdown",
   "metadata": {},
   "source": [
    "### Нормальное распределение:\n",
    "![](img/page_03.jpg)\n",
    "![](img/page_04.jpg)"
   ]
  },
  {
   "cell_type": "code",
   "execution_count": 248,
   "metadata": {},
   "outputs": [
    {
     "data": {
      "text/html": [
       "<pre style=\"white-space:pre;overflow-x:auto;line-height:normal;font-family:Menlo,'DejaVu Sans Mono',consolas,'Courier New',monospace\">Мат. ожидание = <span style=\"color: #008080; text-decoration-color: #008080; font-weight: bold\">4.7700000000000005</span>\n",
       "</pre>\n"
      ],
      "text/plain": [
       "Мат. ожидание = \u001b[1;36m4.7700000000000005\u001b[0m\n"
      ]
     },
     "metadata": {},
     "output_type": "display_data"
    },
    {
     "data": {
      "text/html": [
       "<pre style=\"white-space:pre;overflow-x:auto;line-height:normal;font-family:Menlo,'DejaVu Sans Mono',consolas,'Courier New',monospace\">Мат. ожидание от квадрата = <span style=\"color: #008080; text-decoration-color: #008080; font-weight: bold\">29.03</span>\n",
       "</pre>\n"
      ],
      "text/plain": [
       "Мат. ожидание от квадрата = \u001b[1;36m29.03\u001b[0m\n"
      ]
     },
     "metadata": {},
     "output_type": "display_data"
    },
    {
     "data": {
      "text/html": [
       "<pre style=\"white-space:pre;overflow-x:auto;line-height:normal;font-family:Menlo,'DejaVu Sans Mono',consolas,'Courier New',monospace\">Дисперсия = <span style=\"color: #008080; text-decoration-color: #008080; font-weight: bold\">6.277099999999997</span>\n",
       "</pre>\n"
      ],
      "text/plain": [
       "Дисперсия = \u001b[1;36m6.277099999999997\u001b[0m\n"
      ]
     },
     "metadata": {},
     "output_type": "display_data"
    },
    {
     "data": {
      "text/html": [
       "<pre style=\"white-space:pre;overflow-x:auto;line-height:normal;font-family:Menlo,'DejaVu Sans Mono',consolas,'Courier New',monospace\">Среднеквадратическое отклонение = <span style=\"color: #008080; text-decoration-color: #008080; font-weight: bold\">2.505414137423192</span>\n",
       "</pre>\n"
      ],
      "text/plain": [
       "Среднеквадратическое отклонение = \u001b[1;36m2.505414137423192\u001b[0m\n"
      ]
     },
     "metadata": {},
     "output_type": "display_data"
    },
    {
     "data": {
      "text/html": [
       "<pre style=\"white-space:pre;overflow-x:auto;line-height:normal;font-family:Menlo,'DejaVu Sans Mono',consolas,'Courier New',monospace\">┏━━━━┳━━━━━━━━━━━━━━━━━━━━━┳━━━━━━━━━━━━━━━━━━━━┓\n",
       "┃<span style=\"color: #008000; text-decoration-color: #008000; font-weight: bold\"> Mi </span>┃<span style=\"color: #008000; text-decoration-color: #008000; font-weight: bold\">         Pi          </span>┃<span style=\"color: #008000; text-decoration-color: #008000; font-weight: bold\">        NPi         </span>┃\n",
       "┡━━━━╇━━━━━━━━━━━━━━━━━━━━━╇━━━━━━━━━━━━━━━━━━━━┩\n",
       "│ 5  │ 0.06619530674979886 │ 6.6195306749798855 │\n",
       "│ 8  │ 0.06825331712033313 │ 6.825331712033313  │\n",
       "│ 6  │ 0.1054993182608602  │ 10.54993182608602  │\n",
       "│ 12 │ 0.13934647759971547 │ 13.934647759971547 │\n",
       "│ 14 │ 0.15727758110031428 │ 15.727758110031429 │\n",
       "│ 18 │ 0.1516924251686633  │ 15.16924251686633  │\n",
       "│ 11 │  0.12502207085564   │ 12.502207085563999 │\n",
       "│ 6  │ 0.08805061438692299 │ 8.805061438692299  │\n",
       "│ 13 │ 0.05299024651402033 │ 5.299024651402033  │\n",
       "│ 7  │ 0.04567264224368619 │ 4.567264224368619  │\n",
       "└────┴─────────────────────┴────────────────────┘\n",
       "</pre>\n"
      ],
      "text/plain": [
       "┏━━━━┳━━━━━━━━━━━━━━━━━━━━━┳━━━━━━━━━━━━━━━━━━━━┓\n",
       "┃\u001b[1;32m \u001b[0m\u001b[1;32mMi\u001b[0m\u001b[1;32m \u001b[0m┃\u001b[1;32m \u001b[0m\u001b[1;32m        Pi         \u001b[0m\u001b[1;32m \u001b[0m┃\u001b[1;32m \u001b[0m\u001b[1;32m       NPi        \u001b[0m\u001b[1;32m \u001b[0m┃\n",
       "┡━━━━╇━━━━━━━━━━━━━━━━━━━━━╇━━━━━━━━━━━━━━━━━━━━┩\n",
       "│ 5  │ 0.06619530674979886 │ 6.6195306749798855 │\n",
       "│ 8  │ 0.06825331712033313 │ 6.825331712033313  │\n",
       "│ 6  │ 0.1054993182608602  │ 10.54993182608602  │\n",
       "│ 12 │ 0.13934647759971547 │ 13.934647759971547 │\n",
       "│ 14 │ 0.15727758110031428 │ 15.727758110031429 │\n",
       "│ 18 │ 0.1516924251686633  │ 15.16924251686633  │\n",
       "│ 11 │  0.12502207085564   │ 12.502207085563999 │\n",
       "│ 6  │ 0.08805061438692299 │ 8.805061438692299  │\n",
       "│ 13 │ 0.05299024651402033 │ 5.299024651402033  │\n",
       "│ 7  │ 0.04567264224368619 │ 4.567264224368619  │\n",
       "└────┴─────────────────────┴────────────────────┘\n"
      ]
     },
     "metadata": {},
     "output_type": "display_data"
    },
    {
     "data": {
      "text/html": [
       "<pre style=\"white-space:pre;overflow-x:auto;line-height:normal;font-family:Menlo,'DejaVu Sans Mono',consolas,'Courier New',monospace\">Δ = <span style=\"color: #008080; text-decoration-color: #008080; font-weight: bold\">17.108920472360857</span>\n",
       "</pre>\n"
      ],
      "text/plain": [
       "Δ = \u001b[1;36m17.108920472360857\u001b[0m\n"
      ]
     },
     "metadata": {},
     "output_type": "display_data"
    },
    {
     "data": {
      "text/html": [
       "<pre style=\"white-space:pre;overflow-x:auto;line-height:normal;font-family:Menlo,'DejaVu Sans Mono',consolas,'Courier New',monospace\">p-value = <span style=\"color: #008080; text-decoration-color: #008080; font-weight: bold\">0.0167</span>\n",
       "</pre>\n"
      ],
      "text/plain": [
       "p-value = \u001b[1;36m0.0167\u001b[0m\n"
      ]
     },
     "metadata": {},
     "output_type": "display_data"
    }
   ],
   "source": [
    "def mu(sampling: np.ndarray[int]) -> float:\n",
    "    return sum([i * (sampling[i] / n) for i in range(len(sampling))])\n",
    "\n",
    "\n",
    "def mu2(sampling: list[int]) -> float:\n",
    "    return sum([i**2 * (sampling[i] / n) for i in range(len(sampling))])\n",
    "\n",
    "\n",
    "def d(sampling: list[int]) -> float:\n",
    "    return mu2(sampling) - mu(sampling) ** 2\n",
    "\n",
    "\n",
    "math_exp = sum([i * (m[i] / n) for i in range(len(m))])  # Мат. ожидание\n",
    "console.print(f\"Мат. ожидание = {math_exp}\")\n",
    "\n",
    "\n",
    "math_exp_2 = sum(\n",
    "    [i**2 * (m[i] / n) for i in range(len(m))]\n",
    ")  # Мат. ожидание от квадрата\n",
    "console.print(f\"Мат. ожидание от квадрата = {math_exp_2}\")\n",
    "\n",
    "\n",
    "\n",
    "dispersion = math_exp_2 - math_exp**2  # Дисперсия\n",
    "\n",
    "\n",
    "sigma = dispersion**0.5  # Среднеквадратическое отклонение\n",
    "\n",
    "\n",
    "\n",
    "console.print(f\"Дисперсия = {dispersion}\")\n",
    "\n",
    "\n",
    "console.print(f\"Среднеквадратическое отклонение = {sigma}\")\n",
    "\n",
    "intervals = [\n",
    "    (-np.inf, 1),\n",
    "    (1, 2),\n",
    "    (2, 3),\n",
    "    (3, 4),\n",
    "    (4, 5),\n",
    "    (5, 6),\n",
    "    (6, 7),\n",
    "    (7, 8),\n",
    "    (8, 9),\n",
    "    (9, np.inf),\n",
    "]\n",
    "\n",
    "\n",
    "def f(x: float) -> float:\n",
    "    return (\n",
    "        1\n",
    "        / (sigma * np.sqrt(2 * np.pi))\n",
    "        * np.exp(-(((x - math_exp) ** 2) / (2 * sigma**2)))\n",
    "    )\n",
    "\n",
    "\n",
    "p = [scipy.integrate.quad(f, interval[0], interval[1])[0] for interval in intervals]\n",
    "\n",
    "\n",
    "n_p = [n * p[i] for i in range(len(p))]\n",
    "\n",
    "table = Table(show_header=True, header_style=\"bold green\")\n",
    "\n",
    "table.add_column(\"Mi\", justify=\"center\")\n",
    "table.add_column(\"Pi\", justify=\"center\")\n",
    "table.add_column(\"NPi\", justify=\"center\")\n",
    "\n",
    "for i in range(len(m)):\n",
    "    table.add_row(str(m[i]), str(p[i]), str(n_p[i]))\n",
    "\n",
    "console.print(table)\n",
    "\n",
    "delta = sum([(m[i] - n_p[i]) ** 2 / n_p[i] for i in range(len(m))])\n",
    "console.print(f\"Δ = {delta}\")\n",
    "console.print(f\"p-value = 0.0167\")"
   ]
  },
  {
   "cell_type": "markdown",
   "metadata": {},
   "source": [
    "### Критерий Колмогорова:"
   ]
  },
  {
   "cell_type": "code",
   "execution_count": 249,
   "metadata": {},
   "outputs": [
    {
     "data": {
      "text/html": [
       "<pre style=\"white-space:pre;overflow-x:auto;line-height:normal;font-family:Menlo,'DejaVu Sans Mono',consolas,'Courier New',monospace\">p-value = <span style=\"color: #008080; text-decoration-color: #008080; font-weight: bold\">0.01298</span>\n",
       "</pre>\n"
      ],
      "text/plain": [
       "p-value = \u001b[1;36m0.01298\u001b[0m\n"
      ]
     },
     "metadata": {},
     "output_type": "display_data"
    }
   ],
   "source": [
    "import math\n",
    "\n",
    "\n",
    "def F_star(x, mu, sigma):\n",
    "    return 0.5 * (1 + math.erf((x - mu) / (np.sqrt(2) * sigma)))\n",
    "\n",
    "\n",
    "x = [i for i in range(10)]\n",
    "\n",
    "delta_wave = np.max(\n",
    "    [\n",
    "        np.sqrt(n)\n",
    "        * max(\n",
    "            np.abs(F_star(x[i], math_exp, sigma) - F_emp[i]),\n",
    "            np.abs(F_star(x[i], math_exp, sigma) - F_emp[i + 1]),\n",
    "        )\n",
    "        for i in range(10)\n",
    "    ]\n",
    ")\n",
    "\n",
    "bootstrap_delta = []\n",
    "\n",
    "for _ in range(50000):\n",
    "    sampling = np.random.normal(math_exp, sigma, n)\n",
    "    sorted_sampling = sorted(sampling)\n",
    "    bootstrap_F_emp = [i / n for i in range(n + 1)]\n",
    "    bootstrap_mu = np.mean(sampling)\n",
    "    bootstrap_sigma = np.std(sampling) * n / (n - 1)\n",
    "    bootstrap_delta.append(\n",
    "        np.max(\n",
    "            [\n",
    "                np.sqrt(n)\n",
    "                * max(\n",
    "                    np.abs(\n",
    "                        F_star(sorted_sampling[j], bootstrap_mu, bootstrap_sigma)\n",
    "                        - bootstrap_F_emp[j]\n",
    "                    ),\n",
    "                    np.abs(\n",
    "                        F_star(sorted_sampling[j], bootstrap_mu, bootstrap_sigma)\n",
    "                        - bootstrap_F_emp[j + 1]\n",
    "                    ),\n",
    "                )\n",
    "                for j in range(len(sorted_sampling))\n",
    "            ]\n",
    "        )\n",
    "    )\n",
    "\n",
    "variation_row = sorted(bootstrap_delta)\n",
    "\n",
    "k = len(variation_row)\n",
    "\n",
    "for i in range(len(variation_row)):\n",
    "    if variation_row[i] >= delta_wave:\n",
    "        break\n",
    "    k -= 1\n",
    "\n",
    "p_value = k / 50000\n",
    "console.print(f\"p-value = {p_value}\")"
   ]
  },
  {
   "cell_type": "markdown",
   "metadata": {},
   "source": [
    "### Так как p-value < 0.05, мы отвергаем гипотезу H0.\n",
    "### И критерий ${\\displaystyle \\chi ^{2}}$, и критерий Колмогорова отвергают гипотезу H0. Но Критерий Колмогорова отверг данную гипотезу с меньшей мерой значимости."
   ]
  }
 ],
 "metadata": {
  "kernelspec": {
   "display_name": ".venv",
   "language": "python",
   "name": "python3"
  },
  "language_info": {
   "codemirror_mode": {
    "name": "ipython",
    "version": 3
   },
   "file_extension": ".py",
   "mimetype": "text/x-python",
   "name": "python",
   "nbconvert_exporter": "python",
   "pygments_lexer": "ipython3",
   "version": "3.12.0"
  }
 },
 "nbformat": 4,
 "nbformat_minor": 2
}
