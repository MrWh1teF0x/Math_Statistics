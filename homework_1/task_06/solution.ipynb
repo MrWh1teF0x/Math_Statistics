{
 "cells": [
  {
   "cell_type": "markdown",
   "metadata": {},
   "source": [
    "# Задача 6\n",
    "## Случайная величина имеет распределение Парето: \n",
    "\n",
    "\\begin{equation*} \n",
    "p(x) =\n",
    "\\begin{cases} \n",
    "\\frac{θ-1}{x^θ}, & x  \\geq 1 \\\\\n",
    "0, & x < 1\n",
    "\\end{cases}\n",
    ",θ > 1.\n",
    "\\end{equation*} \n",
    "\n",
    "### a) По выборке объёма n найти оценку параметра θ методом максимального правдоподобия.\n",
    "### b) Построить доверительный интервал для медианы.\n",
    "### c) Построить асимптотический доверительный интервал для параметра θ."
   ]
  },
  {
   "cell_type": "markdown",
   "metadata": {},
   "source": [
    "![](img/page_01.jpg)"
   ]
  },
  {
   "cell_type": "markdown",
   "metadata": {},
   "source": [
    "![](img/page_02.jpg)"
   ]
  },
  {
   "cell_type": "markdown",
   "metadata": {},
   "source": [
    "![](img/page_03.jpg)"
   ]
  },
  {
   "cell_type": "markdown",
   "metadata": {},
   "source": [
    "![](img/page_04.jpg)"
   ]
  },
  {
   "cell_type": "markdown",
   "metadata": {},
   "source": [
    "![](img/page_05.jpg)"
   ]
  },
  {
   "cell_type": "markdown",
   "metadata": {},
   "source": [
    "### d) Сгенерируйте выборку объёма n = 100 для некоторого значения параметра θ. Вычислите указанные выше доверительные интервалы для доверительной вероятности 0.95."
   ]
  },
  {
   "cell_type": "code",
   "execution_count": 2,
   "metadata": {},
   "outputs": [],
   "source": [
    "import math\n",
    "import pandas as pd\n",
    "import random\n",
    "import numpy as np\n",
    "from rich.console import Console\n",
    "from rich.panel import Panel\n",
    "from rich.text import Text\n",
    "\n",
    "console = Console()\n",
    "\n",
    "tetta = 10  # Недостижимая для меня оценка(\n",
    "betta = 0.95\n",
    "\n",
    "\n",
    "def p(x: float) -> float:\n",
    "    return (tetta - 1) / x**tetta if x >= 1 else 0\n",
    "\n",
    "\n",
    "def F(x: float) -> float:\n",
    "    return 1 - 1 / x ** (tetta - 1) if x >= 1 else 0\n",
    "\n",
    "\n",
    "def inverse_F(y: float) -> float:\n",
    "    return 1 / ((1 - y) ** (1 / (tetta - 1)))\n",
    "\n",
    "\n",
    "n = 100\n",
    "\n",
    "sampling = pd.Series(inverse_F(random.uniform(0, 1)) for _ in range(n))  # Выборка"
   ]
  },
  {
   "cell_type": "markdown",
   "metadata": {},
   "source": [
    "### Посчитаем асимптотический доверительный интервал"
   ]
  },
  {
   "cell_type": "code",
   "execution_count": 3,
   "metadata": {},
   "outputs": [
    {
     "data": {
      "text/html": [
       "<pre style=\"white-space:pre;overflow-x:auto;line-height:normal;font-family:Menlo,'DejaVu Sans Mono',consolas,'Courier New',monospace\">Доверительный интервал: <span style=\"color: #008080; text-decoration-color: #008080; font-weight: bold\">8.748345280562933</span> &lt; θ &lt; <span style=\"color: #008080; text-decoration-color: #008080; font-weight: bold\">12.526145467106058</span>\n",
       "</pre>\n"
      ],
      "text/plain": [
       "Доверительный интервал: \u001b[1;36m8.748345280562933\u001b[0m < θ < \u001b[1;36m12.526145467106058\u001b[0m\n"
      ]
     },
     "metadata": {},
     "output_type": "display_data"
    },
    {
     "data": {
      "text/html": [
       "<pre style=\"white-space:pre;overflow-x:auto;line-height:normal;font-family:Menlo,'DejaVu Sans Mono',consolas,'Courier New',monospace\">Длина интервала: <span style=\"color: #008080; text-decoration-color: #008080; font-weight: bold\">3.777800186543125</span>\n",
       "</pre>\n"
      ],
      "text/plain": [
       "Длина интервала: \u001b[1;36m3.777800186543125\u001b[0m\n"
      ]
     },
     "metadata": {},
     "output_type": "display_data"
    }
   ],
   "source": [
    "ln_mean = np.mean([np.log(x) for x in sampling])\n",
    "\n",
    "t1 = -1.96\n",
    "t2 = 1.96\n",
    "\n",
    "lower_grade = 1 - (t2 - np.sqrt(n)) / (ln_mean * np.sqrt(n))\n",
    "upper_grade = 1 - (t1 - np.sqrt(n)) / (ln_mean * np.sqrt(n))\n",
    "\n",
    "console.print(f\"Доверительный интервал: {lower_grade} < θ < {upper_grade}\")\n",
    "console.print(f\"Длина интервала: {upper_grade - lower_grade}\")"
   ]
  },
  {
   "cell_type": "markdown",
   "metadata": {},
   "source": [
    "### Посчитаем доверительный интервал для медианы"
   ]
  },
  {
   "cell_type": "code",
   "execution_count": 4,
   "metadata": {},
   "outputs": [
    {
     "data": {
      "text/html": [
       "<pre style=\"white-space:pre;overflow-x:auto;line-height:normal;font-family:Menlo,'DejaVu Sans Mono',consolas,'Courier New',monospace\">Медиана: <span style=\"color: #008080; text-decoration-color: #008080; font-weight: bold\">1.0874608764052232</span>\n",
       "</pre>\n"
      ],
      "text/plain": [
       "Медиана: \u001b[1;36m1.0874608764052232\u001b[0m\n"
      ]
     },
     "metadata": {},
     "output_type": "display_data"
    },
    {
     "data": {
      "text/html": [
       "<pre style=\"white-space:pre;overflow-x:auto;line-height:normal;font-family:Menlo,'DejaVu Sans Mono',consolas,'Courier New',monospace\">Доверительный интервал: <span style=\"color: #008080; text-decoration-color: #008080; font-weight: bold\">1.0594251154739058</span> &lt; θ &lt; <span style=\"color: #008080; text-decoration-color: #008080; font-weight: bold\">1.0897217728168218</span>\n",
       "</pre>\n"
      ],
      "text/plain": [
       "Доверительный интервал: \u001b[1;36m1.0594251154739058\u001b[0m < θ < \u001b[1;36m1.0897217728168218\u001b[0m\n"
      ]
     },
     "metadata": {},
     "output_type": "display_data"
    },
    {
     "data": {
      "text/html": [
       "<pre style=\"white-space:pre;overflow-x:auto;line-height:normal;font-family:Menlo,'DejaVu Sans Mono',consolas,'Courier New',monospace\">Длина интервала: <span style=\"color: #008080; text-decoration-color: #008080; font-weight: bold\">0.030296657342915978</span>\n",
       "</pre>\n"
      ],
      "text/plain": [
       "Длина интервала: \u001b[1;36m0.030296657342915978\u001b[0m\n"
      ]
     },
     "metadata": {},
     "output_type": "display_data"
    }
   ],
   "source": [
    "g_thetta_wave = 2 ** (ln_mean)\n",
    "\n",
    "lower_grade = g_thetta_wave - t2 * g_thetta_wave * np.log(2) * ln_mean / np.sqrt(n)\n",
    "upper_grade = g_thetta_wave - t1 * g_thetta_wave * np.log(2) * ln_mean / np.sqrt(n)\n",
    "\n",
    "variation_row = sorted(sampling)\n",
    "\n",
    "console.print(f\"Медиана: {(variation_row[49] + variation_row[50])/2}\")\n",
    "console.print(f\"Доверительный интервал: {lower_grade} < θ < {upper_grade}\")\n",
    "console.print(f\"Длина интервала: {upper_grade - lower_grade}\")"
   ]
  },
  {
   "cell_type": "markdown",
   "metadata": {},
   "source": [
    "### e) Численно постройте бутстраповский доверительный интервал двумя способами, используя параметрический бутстрап и непараметрический бутстрап."
   ]
  },
  {
   "cell_type": "markdown",
   "metadata": {},
   "source": [
    "### Посчитаем параметрический бутстраповский доверительный интервал"
   ]
  },
  {
   "cell_type": "code",
   "execution_count": 5,
   "metadata": {},
   "outputs": [
    {
     "data": {
      "text/html": [
       "<pre style=\"white-space:pre;overflow-x:auto;line-height:normal;font-family:Menlo,'DejaVu Sans Mono',consolas,'Courier New',monospace\">Доверительный интервал: <span style=\"color: #008080; text-decoration-color: #008080; font-weight: bold\">8.431633615640175</span> &lt; θ &lt; <span style=\"color: #008080; text-decoration-color: #008080; font-weight: bold\">12.294018779946356</span>\n",
       "</pre>\n"
      ],
      "text/plain": [
       "Доверительный интервал: \u001b[1;36m8.431633615640175\u001b[0m < θ < \u001b[1;36m12.294018779946356\u001b[0m\n"
      ]
     },
     "metadata": {},
     "output_type": "display_data"
    },
    {
     "data": {
      "text/html": [
       "<pre style=\"white-space:pre;overflow-x:auto;line-height:normal;font-family:Menlo,'DejaVu Sans Mono',consolas,'Courier New',monospace\">Длина интервала: <span style=\"color: #008080; text-decoration-color: #008080; font-weight: bold\">3.862385164306181</span>\n",
       "</pre>\n"
      ],
      "text/plain": [
       "Длина интервала: \u001b[1;36m3.862385164306181\u001b[0m\n"
      ]
     },
     "metadata": {},
     "output_type": "display_data"
    }
   ],
   "source": [
    "h_wave = 1 + 1 / ln_mean  # Оценка ОММП\n",
    "\n",
    "\n",
    "def inverse_bootstrap_F(y: float, t: float) -> float:\n",
    "    return 1 / ((1 - y) ** (1 / (t - 1)))\n",
    "\n",
    "\n",
    "bootstrap_deltas = []\n",
    "\n",
    "for _ in range(50000):\n",
    "    bootstrap_sampling = pd.Series(\n",
    "        inverse_bootstrap_F(random.uniform(0, 1), h_wave) for i in range(n)\n",
    "    )\n",
    "    bootstrap_ln_mean = np.mean([np.log(x) for x in bootstrap_sampling])\n",
    "    bootstrap_h = 1 + 1 / bootstrap_ln_mean\n",
    "    bootstrap_deltas.append(bootstrap_h - h_wave)\n",
    "\n",
    "variation_row = sorted(bootstrap_deltas)\n",
    "\n",
    "t1 = variation_row[int((1 - betta) * 50000 / 2)]\n",
    "t2 = variation_row[int((1 + betta) * 50000 / 2)]\n",
    "\n",
    "lower_grade = h_wave - t2\n",
    "upper_grade = h_wave - t1\n",
    "\n",
    "\n",
    "console.print(f\"Доверительный интервал: {lower_grade} < θ < {upper_grade}\")\n",
    "console.print(f\"Длина интервала: {upper_grade - lower_grade}\")"
   ]
  },
  {
   "cell_type": "markdown",
   "metadata": {},
   "source": [
    "### Посчитаем непараметрический бутстраповский доверительный интервал"
   ]
  },
  {
   "cell_type": "code",
   "execution_count": 6,
   "metadata": {},
   "outputs": [
    {
     "data": {
      "text/html": [
       "<pre style=\"white-space:pre;overflow-x:auto;line-height:normal;font-family:Menlo,'DejaVu Sans Mono',consolas,'Courier New',monospace\">Доверительный интервал: <span style=\"color: #008080; text-decoration-color: #008080; font-weight: bold\">8.669748593717951</span> &lt; θ &lt; <span style=\"color: #008080; text-decoration-color: #008080; font-weight: bold\">12.226780925053363</span>\n",
       "</pre>\n"
      ],
      "text/plain": [
       "Доверительный интервал: \u001b[1;36m8.669748593717951\u001b[0m < θ < \u001b[1;36m12.226780925053363\u001b[0m\n"
      ]
     },
     "metadata": {},
     "output_type": "display_data"
    },
    {
     "data": {
      "text/html": [
       "<pre style=\"white-space:pre;overflow-x:auto;line-height:normal;font-family:Menlo,'DejaVu Sans Mono',consolas,'Courier New',monospace\">Длина интервала: <span style=\"color: #008080; text-decoration-color: #008080; font-weight: bold\">3.557032331335412</span>\n",
       "</pre>\n"
      ],
      "text/plain": [
       "Длина интервала: \u001b[1;36m3.557032331335412\u001b[0m\n"
      ]
     },
     "metadata": {},
     "output_type": "display_data"
    }
   ],
   "source": [
    "bootstrap_deltas = []\n",
    "\n",
    "for _ in range(1000):\n",
    "    subsampling = np.random.choice(sampling, size=n)\n",
    "    ln_mean_bootstrap = np.mean([np.log(x) for x in subsampling])\n",
    "    bootstrap_deltas.append(1 + 1 / ln_mean_bootstrap - h_wave)\n",
    "\n",
    "variation_row = sorted(bootstrap_deltas)\n",
    "\n",
    "t1 = variation_row[int((1 - betta) * 1000 / 2)]\n",
    "t2 = variation_row[int((1 + betta) * 1000 / 2)]\n",
    "\n",
    "lower_grade = h_wave - t2\n",
    "upper_grade = h_wave - t1\n",
    "\n",
    "\n",
    "console.print(f\"Доверительный интервал: {lower_grade} < θ < {upper_grade}\")\n",
    "console.print(f\"Длина интервала: {upper_grade- lower_grade}\")"
   ]
  },
  {
   "cell_type": "markdown",
   "metadata": {},
   "source": [
    "### f) Сравнить все интервалы.\n",
    "#### Длина непараметрического бутстраповского доверительного интервала < длина асимптотического доверительного интервала < длина параметрического бутстраповского доверительного интервала"
   ]
  }
 ],
 "metadata": {
  "kernelspec": {
   "display_name": ".venv",
   "language": "python",
   "name": "python3"
  },
  "language_info": {
   "codemirror_mode": {
    "name": "ipython",
    "version": 3
   },
   "file_extension": ".py",
   "mimetype": "text/x-python",
   "name": "python",
   "nbconvert_exporter": "python",
   "pygments_lexer": "ipython3",
   "version": "3.12.0"
  }
 },
 "nbformat": 4,
 "nbformat_minor": 2
}
