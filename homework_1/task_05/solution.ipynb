{
 "cells": [
  {
   "cell_type": "markdown",
   "metadata": {},
   "source": [
    "# Задача 5\n",
    "\n",
    "### Случайная величина распределена равномерно на отрезке [θ, 2θ].\n",
    "### a) По выборке объёма n найти оценки параметра θ методом моментов и методом максимального правдоподобия.\n",
    "### b) Проверить оценки на несмещённость и состоятельность. Исправить эти оценки, если необходимо.\n",
    "### c) Сравнить эффективность исправленных оценок.\n",
    "### d) Построить точный доверительный интервал для параметра θ.\n",
    "### e) Построить асимптотический доверительный интервал для параметра θ."
   ]
  },
  {
   "cell_type": "markdown",
   "metadata": {},
   "source": [
    "![](img/page_01.jpg)"
   ]
  },
  {
   "cell_type": "markdown",
   "metadata": {},
   "source": [
    "![](img/page_02.jpg)"
   ]
  },
  {
   "cell_type": "markdown",
   "metadata": {},
   "source": [
    "![](img/page_03.jpg)"
   ]
  },
  {
   "cell_type": "markdown",
   "metadata": {},
   "source": [
    "![](img/page_04.jpg)"
   ]
  },
  {
   "cell_type": "markdown",
   "metadata": {},
   "source": [
    "![](img/page_05.jpg)"
   ]
  },
  {
   "cell_type": "markdown",
   "metadata": {},
   "source": [
    "![](img/page_06.jpg)"
   ]
  },
  {
   "cell_type": "markdown",
   "metadata": {},
   "source": [
    "### f) Сгенеруйте выборку объёму n = 100 для некоторого значения парамeтра. Вычислите указанные выше доверительные интегралы для доверительной веротяности 0.95."
   ]
  },
  {
   "cell_type": "code",
   "execution_count": 185,
   "metadata": {},
   "outputs": [],
   "source": [
    "import math\n",
    "import pandas as pd\n",
    "import random\n",
    "import numpy as np\n",
    "from rich.console import Console\n",
    "from rich.panel import Panel\n",
    "from rich.text import Text\n",
    "\n",
    "console = Console()\n",
    "\n",
    "tetta = 5  # Любимая оценка)\n",
    "betta = 0.95\n",
    "\n",
    "\n",
    "def p(x: float) -> float:\n",
    "    return 1 / tetta if (tetta <= x <= 2 * tetta) else 0\n",
    "\n",
    "\n",
    "def F(x: float) -> float:\n",
    "    if x < tetta:\n",
    "        return 0\n",
    "    elif tetta <= x <= 2 * tetta:\n",
    "        return x / tetta - 1\n",
    "    elif x > tetta:\n",
    "        return 1\n",
    "\n",
    "\n",
    "def inverse_F(y: float) -> float:\n",
    "    return (y + 1) * tetta\n",
    "\n",
    "\n",
    "n = 100\n",
    "\n",
    "sampling = pd.Series(inverse_F(random.uniform(0, 1)) for _ in range(n))  # Выборка"
   ]
  },
  {
   "cell_type": "markdown",
   "metadata": {},
   "source": [
    "### Посчитаем точный доверительный интервал"
   ]
  },
  {
   "cell_type": "code",
   "execution_count": 186,
   "metadata": {},
   "outputs": [
    {
     "data": {
      "text/html": [
       "<pre style=\"white-space:pre;overflow-x:auto;line-height:normal;font-family:Menlo,'DejaVu Sans Mono',consolas,'Courier New',monospace\">Доверительный интервал: <span style=\"color: #008080; text-decoration-color: #008080; font-weight: bold\">4.95994550377298</span> &lt; θ &lt; <span style=\"color: #008080; text-decoration-color: #008080; font-weight: bold\">5.0507789631729265</span>\n",
       "</pre>\n"
      ],
      "text/plain": [
       "Доверительный интервал: \u001b[1;36m4.95994550377298\u001b[0m < θ < \u001b[1;36m5.0507789631729265\u001b[0m\n"
      ]
     },
     "metadata": {},
     "output_type": "display_data"
    },
    {
     "data": {
      "text/html": [
       "<pre style=\"white-space:pre;overflow-x:auto;line-height:normal;font-family:Menlo,'DejaVu Sans Mono',consolas,'Courier New',monospace\">Длина интервала: <span style=\"color: #008080; text-decoration-color: #008080; font-weight: bold\">0.09083345939994647</span>\n",
       "</pre>\n"
      ],
      "text/plain": [
       "Длина интервала: \u001b[1;36m0.09083345939994647\u001b[0m\n"
      ]
     },
     "metadata": {},
     "output_type": "display_data"
    }
   ],
   "source": [
    "x_max = np.max(sampling)\n",
    "\n",
    "t1 = ((1 - betta) / 2) ** (1 / n)\n",
    "t2 = ((1 + betta) / 2) ** (1 / n)\n",
    "\n",
    "lower_grade = x_max / (t2 + 1)\n",
    "upper_grade = x_max / (t1 + 1)\n",
    "\n",
    "console.print(f\"Доверительный интервал: {lower_grade} < θ < {upper_grade}\")\n",
    "console.print(f\"Длина интервала: {upper_grade - lower_grade}\")"
   ]
  },
  {
   "cell_type": "markdown",
   "metadata": {},
   "source": [
    "### Посчитаем асимптотический доверительный интервал"
   ]
  },
  {
   "cell_type": "code",
   "execution_count": 187,
   "metadata": {},
   "outputs": [
    {
     "data": {
      "text/html": [
       "<pre style=\"white-space:pre;overflow-x:auto;line-height:normal;font-family:Menlo,'DejaVu Sans Mono',consolas,'Courier New',monospace\">Доверительный интервал: <span style=\"color: #008080; text-decoration-color: #008080; font-weight: bold\">4.955232986130193</span> &lt; θ &lt; <span style=\"color: #008080; text-decoration-color: #008080; font-weight: bold\">5.34058694273968</span>\n",
       "</pre>\n"
      ],
      "text/plain": [
       "Доверительный интервал: \u001b[1;36m4.955232986130193\u001b[0m < θ < \u001b[1;36m5.34058694273968\u001b[0m\n"
      ]
     },
     "metadata": {},
     "output_type": "display_data"
    },
    {
     "data": {
      "text/html": [
       "<pre style=\"white-space:pre;overflow-x:auto;line-height:normal;font-family:Menlo,'DejaVu Sans Mono',consolas,'Courier New',monospace\">Длина интервала: <span style=\"color: #008080; text-decoration-color: #008080; font-weight: bold\">0.385353956609487</span>\n",
       "</pre>\n"
      ],
      "text/plain": [
       "Длина интервала: \u001b[1;36m0.385353956609487\u001b[0m\n"
      ]
     },
     "metadata": {},
     "output_type": "display_data"
    }
   ],
   "source": [
    "x_mean = np.mean(sampling)\n",
    "tetta_wave = (2 / 3) * x_mean\n",
    "\n",
    "s = np.sqrt((np.sum([(x - x_mean) ** 2 for x in sampling])) / (n - 1))\n",
    "\n",
    "t1 = -1.96\n",
    "t2 = 1.96\n",
    "\n",
    "lower_grade = tetta_wave - 2 * s * np.sqrt(n - 1) / (3 * n) * t2\n",
    "upper_grade = tetta_wave - 2 * s * np.sqrt(n - 1) / (3 * n) * t1\n",
    "\n",
    "console.print(f\"Доверительный интервал: {lower_grade} < θ < {upper_grade}\")\n",
    "console.print(f\"Длина интервала: {upper_grade - lower_grade}\")"
   ]
  },
  {
   "cell_type": "markdown",
   "metadata": {},
   "source": [
    "### g) Численно постройте бутстраповский доверительный интервал."
   ]
  },
  {
   "cell_type": "code",
   "execution_count": 188,
   "metadata": {},
   "outputs": [
    {
     "data": {
      "text/html": [
       "<pre style=\"white-space:pre;overflow-x:auto;line-height:normal;font-family:Menlo,'DejaVu Sans Mono',consolas,'Courier New',monospace\">Бутстраповский доверительный интервал, полученный с помощью оценки параметра методом ОММ:\n",
       " <span style=\"color: #008080; text-decoration-color: #008080; font-weight: bold\">4.95580934333009</span> &lt; θ &lt; <span style=\"color: #008080; text-decoration-color: #008080; font-weight: bold\">5.330634448525707</span>\n",
       "</pre>\n"
      ],
      "text/plain": [
       "Бутстраповский доверительный интервал, полученный с помощью оценки параметра методом ОММ:\n",
       " \u001b[1;36m4.95580934333009\u001b[0m < θ < \u001b[1;36m5.330634448525707\u001b[0m\n"
      ]
     },
     "metadata": {},
     "output_type": "display_data"
    },
    {
     "data": {
      "text/html": [
       "<pre style=\"white-space:pre;overflow-x:auto;line-height:normal;font-family:Menlo,'DejaVu Sans Mono',consolas,'Courier New',monospace\">Длина интервала: <span style=\"color: #008080; text-decoration-color: #008080; font-weight: bold\">0.37482510519561707</span>\n",
       "</pre>\n"
      ],
      "text/plain": [
       "Длина интервала: \u001b[1;36m0.37482510519561707\u001b[0m\n"
      ]
     },
     "metadata": {},
     "output_type": "display_data"
    },
    {
     "data": {
      "text/html": [
       "<pre style=\"white-space:pre;overflow-x:auto;line-height:normal;font-family:Menlo,'DejaVu Sans Mono',consolas,'Courier New',monospace\">\n",
       "</pre>\n"
      ],
      "text/plain": [
       "\n"
      ]
     },
     "metadata": {},
     "output_type": "display_data"
    },
    {
     "data": {
      "text/html": [
       "<pre style=\"white-space:pre;overflow-x:auto;line-height:normal;font-family:Menlo,'DejaVu Sans Mono',consolas,'Courier New',monospace\">Бутстраповский доверительный интервал, полученный с помощью оценки параметра методом ОММП:\n",
       " <span style=\"color: #008080; text-decoration-color: #008080; font-weight: bold\">4.98399093093934</span> &lt; θ &lt; <span style=\"color: #008080; text-decoration-color: #008080; font-weight: bold\">5.056710256699337</span>\n",
       "</pre>\n"
      ],
      "text/plain": [
       "Бутстраповский доверительный интервал, полученный с помощью оценки параметра методом ОММП:\n",
       " \u001b[1;36m4.98399093093934\u001b[0m < θ < \u001b[1;36m5.056710256699337\u001b[0m\n"
      ]
     },
     "metadata": {},
     "output_type": "display_data"
    },
    {
     "data": {
      "text/html": [
       "<pre style=\"white-space:pre;overflow-x:auto;line-height:normal;font-family:Menlo,'DejaVu Sans Mono',consolas,'Courier New',monospace\">Длина интервала: <span style=\"color: #008080; text-decoration-color: #008080; font-weight: bold\">0.07271932575999696</span>\n",
       "</pre>\n"
      ],
      "text/plain": [
       "Длина интервала: \u001b[1;36m0.07271932575999696\u001b[0m\n"
      ]
     },
     "metadata": {},
     "output_type": "display_data"
    }
   ],
   "source": [
    "# Оценка ОММ\n",
    "h_wave_omm = tetta_wave\n",
    "\n",
    "# Исправленная оценка ОММП\n",
    "h_wave_ommp = (n + 1) * x_max / (2 * n + 1)\n",
    "\n",
    "bootstrap_deltas_omm = []\n",
    "\n",
    "for _ in range(1000):\n",
    "    subsampling = np.random.choice(sampling, size=n)\n",
    "    bootstrap_deltas_omm.append((2 / 3) * np.mean(subsampling) - h_wave_omm)\n",
    "\n",
    "variation_row_omm = sorted(bootstrap_deltas_omm)\n",
    "\n",
    "\n",
    "bootstrap_deltas_ommp = []\n",
    "\n",
    "for _ in range(1000):\n",
    "    subsampling = np.random.choice(sampling, size=n)\n",
    "    bootstrap_deltas_ommp.append(\n",
    "        (n + 1) * np.max(subsampling) / (2 * n + 1) - h_wave_ommp\n",
    "    )\n",
    "\n",
    "variation_row_ommp = sorted(bootstrap_deltas_ommp)\n",
    "\n",
    "t1_omm = variation_row_omm[int((1 - betta) * 1000 / 2)]\n",
    "t2_omm = variation_row_omm[int((1 + betta) * 1000 / 2)]\n",
    "\n",
    "t1_ommp = variation_row_ommp[int((1 - betta) * 1000 / 2)]\n",
    "t2_ommp = variation_row_ommp[int((1 + betta) * 1000 / 2)]\n",
    "\n",
    "lower_grade_omm = h_wave_omm - t2_omm\n",
    "upper_grade_omm = h_wave_omm - t1_omm\n",
    "\n",
    "lower_grade_ommp = h_wave_ommp - t2_ommp\n",
    "upper_grade_ommp = h_wave_ommp - t1_ommp\n",
    "\n",
    "console.print(f\"Бутстраповский доверительный интервал, полученный с помощью оценки параметра методом ОММ:\\n {lower_grade_omm} < θ < {upper_grade_omm}\")\n",
    "console.print(f\"Длина интервала: {upper_grade_omm - lower_grade_omm}\")\n",
    "\n",
    "console.print()\n",
    "\n",
    "console.print(f\"Бутстраповский доверительный интервал, полученный с помощью оценки параметра методом ОММП:\\n {lower_grade_ommp} < θ < {upper_grade_ommp}\")\n",
    "console.print(f\"Длина интервала: {upper_grade_ommp - lower_grade_ommp}\")"
   ]
  },
  {
   "cell_type": "markdown",
   "metadata": {},
   "source": [
    "### h) Сравнить все интервалы.\n",
    "#### В итоге, мы получаем, что бутстраповский доверительный интервал < точный доверительный интервал < асимптотический доверительный интервал. Причём у бутстраповского доверительного интервала, полученного с помощью оценки параметра методом ОММП, длина меньше, чем у полученного с помощью ОММ."
   ]
  }
 ],
 "metadata": {
  "kernelspec": {
   "display_name": ".venv",
   "language": "python",
   "name": "python3"
  },
  "language_info": {
   "codemirror_mode": {
    "name": "ipython",
    "version": 3
   },
   "file_extension": ".py",
   "mimetype": "text/x-python",
   "name": "python",
   "nbconvert_exporter": "python",
   "pygments_lexer": "ipython3",
   "version": "3.12.0"
  }
 },
 "nbformat": 4,
 "nbformat_minor": 2
}
