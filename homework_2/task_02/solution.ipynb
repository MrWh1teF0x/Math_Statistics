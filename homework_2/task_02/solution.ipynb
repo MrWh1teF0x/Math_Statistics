{
 "cells": [
  {
   "cell_type": "markdown",
   "id": "a9d8e1ee",
   "metadata": {},
   "source": [
    "# Задача 2\n",
    "## В таблице приведены данные о содержании иммуноглобулина Ig A в сыворотке крови у больных пяти возрастных групп:\n",
    "| № | Содержание Ig A(%) |\n",
    "| ----------- | ----------- |\n",
    "| 1 | 83, 85 |\n",
    "| 2 | 84, 85, 85, 86, 86, 87 |\n",
    "| 3 | 86, 87, 87, 87, 88, 88, 88, 88, 88, 89, 90 |\n",
    "| 4 | 89, 90, 90, 91 |\n",
    "| 5 | 90, 92 |"
   ]
  },
  {
   "cell_type": "markdown",
   "id": "ef4c18de",
   "metadata": {},
   "source": [
    "## a) Определить влияние возраста на содержание иммуноглобулина в крови с помощью регрессионного анализа."
   ]
  },
  {
   "cell_type": "code",
   "execution_count": 133,
   "id": "fd35a03e",
   "metadata": {},
   "outputs": [
    {
     "data": {
      "text/html": [
       "<pre style=\"white-space:pre;overflow-x:auto;line-height:normal;font-family:Menlo,'DejaVu Sans Mono',consolas,'Courier New',monospace\">┏━━━━━━━━━━━━━┳━━━━━━━━━━┳━━━━━━━━━━━━━━━━━━━━━━━━┳━━━━━━━━━━━━━━━━━┓\n",
       "┃<span style=\"color: #008000; text-decoration-color: #008000\"> Коэффициент </span>┃<span style=\"color: #008000; text-decoration-color: #008000\"> Значение </span>┃<span style=\"color: #008000; text-decoration-color: #008000\">        p-value         </span>┃<span style=\"color: #008000; text-decoration-color: #008000\"> Значим/Незначим </span>┃\n",
       "┡━━━━━━━━━━━━━╇━━━━━━━━━━╇━━━━━━━━━━━━━━━━━━━━━━━━╇━━━━━━━━━━━━━━━━━┩\n",
       "│     β0      │  81.896  │ 2.0140201783267344e-34 │     Значим      │\n",
       "│     β1      │  1.940   │ 2.1251512362036984e-09 │     Значим      │\n",
       "└─────────────┴──────────┴────────────────────────┴─────────────────┘\n",
       "</pre>\n"
      ],
      "text/plain": [
       "┏━━━━━━━━━━━━━┳━━━━━━━━━━┳━━━━━━━━━━━━━━━━━━━━━━━━┳━━━━━━━━━━━━━━━━━┓\n",
       "┃\u001b[32m \u001b[0m\u001b[32mКоэффициент\u001b[0m\u001b[32m \u001b[0m┃\u001b[32m \u001b[0m\u001b[32mЗначение\u001b[0m\u001b[32m \u001b[0m┃\u001b[32m \u001b[0m\u001b[32m       p-value        \u001b[0m\u001b[32m \u001b[0m┃\u001b[32m \u001b[0m\u001b[32mЗначим/Незначим\u001b[0m\u001b[32m \u001b[0m┃\n",
       "┡━━━━━━━━━━━━━╇━━━━━━━━━━╇━━━━━━━━━━━━━━━━━━━━━━━━╇━━━━━━━━━━━━━━━━━┩\n",
       "│     β0      │  81.896  │ 2.0140201783267344e-34 │     Значим      │\n",
       "│     β1      │  1.940   │ 2.1251512362036984e-09 │     Значим      │\n",
       "└─────────────┴──────────┴────────────────────────┴─────────────────┘\n"
      ]
     },
     "metadata": {},
     "output_type": "display_data"
    }
   ],
   "source": [
    "import numpy as np\n",
    "from rich.console import Console\n",
    "from rich.table import Table\n",
    "from scipy.stats import t, f, norm\n",
    "import numpy as np\n",
    "from scipy import stats\n",
    "\n",
    "alpha = 0.05\n",
    "console = Console()\n",
    "\n",
    "age_groups = {\n",
    "    1: [[1, 1] for i in range(2)],\n",
    "    2: [[1, 2] for i in range(6)],\n",
    "    3: [[1, 3] for i in range(11)],\n",
    "    4: [[1, 4] for i in range(4)],\n",
    "    5: [[1, 5] for i in range(2)],\n",
    "}\n",
    "\n",
    "PSI = []\n",
    "PSI.extend(age_groups[1])\n",
    "PSI.extend(age_groups[2])\n",
    "PSI.extend(age_groups[3])\n",
    "PSI.extend(age_groups[4])\n",
    "PSI.extend(age_groups[5])\n",
    "PSI = np.array(PSI)\n",
    "\n",
    "ig_age_groups = {\n",
    "    1: [83, 85],\n",
    "    2: [84, 85, 85, 86, 86, 87],\n",
    "    3: [86, 87, 87, 87, 88, 88, 88, 88, 88, 89, 90],\n",
    "    4: [89, 90, 90, 91],\n",
    "    5: [90, 92],\n",
    "}\n",
    "\n",
    "Y = []\n",
    "Y.extend(ig_age_groups[1])\n",
    "Y.extend(ig_age_groups[2])\n",
    "Y.extend(ig_age_groups[3])\n",
    "Y.extend(ig_age_groups[4])\n",
    "Y.extend(ig_age_groups[5])\n",
    "Y = np.array(Y)\n",
    "\n",
    "F = np.dot(PSI.transpose(), PSI)\n",
    "F_inverse = np.linalg.inv(F)\n",
    "\n",
    "beta_wave = np.dot(np.dot(F_inverse, PSI.transpose()), Y)\n",
    "\n",
    "n = len(PSI)\n",
    "p = len(beta_wave)\n",
    "\n",
    "table = Table(show_header=True, header_style=\"green\")\n",
    "table.add_column(\"Коэффициент\", justify=\"center\")\n",
    "table.add_column(\"Значение\", justify=\"center\")\n",
    "table.add_column(\"p-value\", justify=\"center\")\n",
    "table.add_column(\"Значим/Незначим\", justify=\"center\")\n",
    "\n",
    "e = np.array(Y - np.dot(PSI, beta_wave))\n",
    "\n",
    "RSS = np.dot(e.transpose(), e)\n",
    "\n",
    "for i, beta_i in enumerate(beta_wave):\n",
    "    delta_wave = abs(beta_i / np.sqrt(RSS * F_inverse[i][i]) * np.sqrt(n - p))\n",
    "    p_value = 2 * t.sf(delta_wave, n - p)\n",
    "    table.add_row(\n",
    "        f\"β{i}\",\n",
    "        f\"{beta_i:.3f}\",\n",
    "        f\"{p_value}\",\n",
    "        f\"{'Значим' if p_value < alpha else 'Незначим'}\",\n",
    "    )\n",
    "\n",
    "console.print(table)"
   ]
  },
  {
   "cell_type": "markdown",
   "id": "85eda47d",
   "metadata": {},
   "source": [
    "### Уравнение регрессии: $${y = 81.896 + 1.940 * x_1},$$ где $x_1$ равен номеру возрастной группы."
   ]
  },
  {
   "cell_type": "code",
   "execution_count": 134,
   "id": "bcc2ff06",
   "metadata": {},
   "outputs": [
    {
     "data": {
      "text/html": [
       "<pre style=\"white-space:pre;overflow-x:auto;line-height:normal;font-family:Menlo,'DejaVu Sans Mono',consolas,'Courier New',monospace\">p-value = <span style=\"color: #008080; text-decoration-color: #008080; font-weight: bold\">2.125151236203109e-09</span> &lt; <span style=\"color: #008080; text-decoration-color: #008080; font-weight: bold\">0.05</span>\n",
       "</pre>\n"
      ],
      "text/plain": [
       "p-value = \u001b[1;36m2.125151236203109e-09\u001b[0m < \u001b[1;36m0.05\u001b[0m\n"
      ]
     },
     "metadata": {},
     "output_type": "display_data"
    },
    {
     "data": {
      "text/html": [
       "<pre style=\"white-space:pre;overflow-x:auto;line-height:normal;font-family:Menlo,'DejaVu Sans Mono',consolas,'Courier New',monospace\">R² = <span style=\"color: #008080; text-decoration-color: #008080; font-weight: bold\">0.7957938733346712</span>\n",
       "</pre>\n"
      ],
      "text/plain": [
       "R² = \u001b[1;36m0.7957938733346712\u001b[0m\n"
      ]
     },
     "metadata": {},
     "output_type": "display_data"
    }
   ],
   "source": [
    "TSS = sum((np.mean(Y) - Y) ** 2)\n",
    "\n",
    "delta_wave = ((TSS - RSS) / (p - 1)) / (RSS / (n - p))\n",
    "\n",
    "p_value = f.sf(delta_wave, p - 1, n - p)\n",
    "\n",
    "console.print(f\"p-value = {p_value} {'>' if p_value > alpha else '<'} {alpha}\")\n",
    "\n",
    "R_squared = (TSS - RSS) / TSS\n",
    "\n",
    "console.print(f\"R² = {R_squared}\")"
   ]
  },
  {
   "cell_type": "markdown",
   "id": "5a7359c3",
   "metadata": {},
   "source": [
    "### Так как p-value меньше 0.05, то регрессия значима."
   ]
  },
  {
   "cell_type": "markdown",
   "id": "61e5fe95",
   "metadata": {},
   "source": [
    "## b) Провести попарное сравнение средних в рамках регрессионной модели, с учетом множественности проверяемых гипотез."
   ]
  },
  {
   "cell_type": "code",
   "execution_count": 139,
   "id": "8541a702",
   "metadata": {},
   "outputs": [
    {
     "data": {
      "text/html": [
       "<pre style=\"white-space:pre;overflow-x:auto;line-height:normal;font-family:Menlo,'DejaVu Sans Mono',consolas,'Courier New',monospace\">┏━━━━━━━━━━━━━━━┳━━━━━━━━━━━━━━━┳━━━━━━━━━━━━━━━━━━━━━━━┳━━━━━━━━━━━━━━━━━━━━━━━┳━━━━━━━━━━━━━━━━━━━━━━━━━━━━━━━━━┓\n",
       "┃<span style=\"color: #008000; text-decoration-color: #008000\">               </span>┃<span style=\"color: #008000; text-decoration-color: #008000\">               </span>┃<span style=\"color: #008000; text-decoration-color: #008000\">                       </span>┃<span style=\"color: #008000; text-decoration-color: #008000\">                       </span>┃<span style=\"color: #008000; text-decoration-color: #008000\">   Значимо/незначимо различие    </span>┃\n",
       "┃<span style=\"color: #008000; text-decoration-color: #008000\"> Первая группа </span>┃<span style=\"color: #008000; text-decoration-color: #008000\"> Вторая группа </span>┃<span style=\"color: #008000; text-decoration-color: #008000\">           α           </span>┃<span style=\"color: #008000; text-decoration-color: #008000\">        p-value        </span>┃<span style=\"color: #008000; text-decoration-color: #008000\">     средних между группами      </span>┃\n",
       "┡━━━━━━━━━━━━━━━╇━━━━━━━━━━━━━━━╇━━━━━━━━━━━━━━━━━━━━━━━╇━━━━━━━━━━━━━━━━━━━━━━━╇━━━━━━━━━━━━━━━━━━━━━━━━━━━━━━━━━┩\n",
       "│       1       │       2       │         0.05          │   0.15145400164755    │            Незначимо            │\n",
       "│       4       │       5       │         0.05          │  0.31250000000000006  │            Незначимо            │\n",
       "│       2       │       4       │        0.00625        │ 9.24505788450397e-05  │             Значимо             │\n",
       "│       2       │       3       │ 0.0071428571428571435 │ 0.0006664488749708028 │             Значимо             │\n",
       "│       2       │       5       │ 0.008333333333333333  │ 0.0009437516449898814 │             Значимо             │\n",
       "│       1       │       3       │         0.01          │ 0.0009608874579818152 │             Значимо             │\n",
       "│       1       │       4       │        0.0125         │ 0.0022784262913801683 │             Значимо             │\n",
       "│       3       │       4       │ 0.016666666666666666  │ 0.0029454107549331853 │             Значимо             │\n",
       "│       3       │       5       │         0.025         │ 0.0033959610991523056 │             Значимо             │\n",
       "│       1       │       5       │         0.05          │ 0.038476052359176824  │             Значимо             │\n",
       "└───────────────┴───────────────┴───────────────────────┴───────────────────────┴─────────────────────────────────┘\n",
       "</pre>\n"
      ],
      "text/plain": [
       "┏━━━━━━━━━━━━━━━┳━━━━━━━━━━━━━━━┳━━━━━━━━━━━━━━━━━━━━━━━┳━━━━━━━━━━━━━━━━━━━━━━━┳━━━━━━━━━━━━━━━━━━━━━━━━━━━━━━━━━┓\n",
       "┃\u001b[32m               \u001b[0m┃\u001b[32m               \u001b[0m┃\u001b[32m                       \u001b[0m┃\u001b[32m                       \u001b[0m┃\u001b[32m \u001b[0m\u001b[32m  Значимо/незначимо различие   \u001b[0m\u001b[32m \u001b[0m┃\n",
       "┃\u001b[32m \u001b[0m\u001b[32mПервая группа\u001b[0m\u001b[32m \u001b[0m┃\u001b[32m \u001b[0m\u001b[32mВторая группа\u001b[0m\u001b[32m \u001b[0m┃\u001b[32m \u001b[0m\u001b[32m          α          \u001b[0m\u001b[32m \u001b[0m┃\u001b[32m \u001b[0m\u001b[32m       p-value       \u001b[0m\u001b[32m \u001b[0m┃\u001b[32m \u001b[0m\u001b[32m    средних между группами     \u001b[0m\u001b[32m \u001b[0m┃\n",
       "┡━━━━━━━━━━━━━━━╇━━━━━━━━━━━━━━━╇━━━━━━━━━━━━━━━━━━━━━━━╇━━━━━━━━━━━━━━━━━━━━━━━╇━━━━━━━━━━━━━━━━━━━━━━━━━━━━━━━━━┩\n",
       "│       1       │       2       │         0.05          │   0.15145400164755    │            Незначимо            │\n",
       "│       4       │       5       │         0.05          │  0.31250000000000006  │            Незначимо            │\n",
       "│       2       │       4       │        0.00625        │ 9.24505788450397e-05  │             Значимо             │\n",
       "│       2       │       3       │ 0.0071428571428571435 │ 0.0006664488749708028 │             Значимо             │\n",
       "│       2       │       5       │ 0.008333333333333333  │ 0.0009437516449898814 │             Значимо             │\n",
       "│       1       │       3       │         0.01          │ 0.0009608874579818152 │             Значимо             │\n",
       "│       1       │       4       │        0.0125         │ 0.0022784262913801683 │             Значимо             │\n",
       "│       3       │       4       │ 0.016666666666666666  │ 0.0029454107549331853 │             Значимо             │\n",
       "│       3       │       5       │         0.025         │ 0.0033959610991523056 │             Значимо             │\n",
       "│       1       │       5       │         0.05          │ 0.038476052359176824  │             Значимо             │\n",
       "└───────────────┴───────────────┴───────────────────────┴───────────────────────┴─────────────────────────────────┘\n"
      ]
     },
     "metadata": {},
     "output_type": "display_data"
    }
   ],
   "source": [
    "all_pairs = [(i, j) for i in range(1, 6) for j in range(i + 1, 6)]\n",
    "\n",
    "n = len(all_pairs)\n",
    "\n",
    "table = Table(show_header=True, header_style=\"green\")\n",
    "table.add_column(\"Первая группа\", justify=\"center\")\n",
    "table.add_column(\"Вторая группа\", justify=\"center\")\n",
    "table.add_column(\"α\", justify=\"center\")\n",
    "table.add_column(\"p-value\", justify=\"center\")\n",
    "table.add_column(\"Значимо/незначимо различие средних между группами\", justify=\"center\")\n",
    "\n",
    "all_p_values = dict()\n",
    "for pair in all_pairs:\n",
    "    t_stat, p_value = stats.ttest_ind(\n",
    "        ig_age_groups[pair[0]], ig_age_groups[pair[1]], equal_var=True\n",
    "    )\n",
    "    if p_value < alpha:\n",
    "        all_p_values[(pair[0], pair[1])] = p_value\n",
    "    else:\n",
    "        table.add_row(f\"{pair[0]}\", f\"{pair[1]}\", f\"{alpha}\", f\"{p_value}\", f\"Незначимо\")\n",
    "\n",
    "m = len(all_p_values)\n",
    "for pair, p_value in sorted(all_p_values.items(), key=lambda item: item[1]):\n",
    "    alpha_i = alpha / m\n",
    "    if p_value < alpha_i:\n",
    "        m -= 1\n",
    "        table.add_row(f\"{pair[0]}\", f\"{pair[1]}\", f\"{alpha_i}\", f\"{p_value}\", f\"Значимо\")\n",
    "    else:\n",
    "        table.add_row(f\"{pair[0]}\", f\"{pair[1]}\", f\"{alpha_i}\", f\"{p_value}\", f\"Незначимо\")\n",
    "\n",
    "\n",
    "console.print(table)"
   ]
  }
 ],
 "metadata": {
  "kernelspec": {
   "display_name": ".venv",
   "language": "python",
   "name": "python3"
  },
  "language_info": {
   "codemirror_mode": {
    "name": "ipython",
    "version": 3
   },
   "file_extension": ".py",
   "mimetype": "text/x-python",
   "name": "python",
   "nbconvert_exporter": "python",
   "pygments_lexer": "ipython3",
   "version": "3.12.0"
  }
 },
 "nbformat": 4,
 "nbformat_minor": 5
}
