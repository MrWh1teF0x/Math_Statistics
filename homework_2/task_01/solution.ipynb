{
 "cells": [
  {
   "cell_type": "markdown",
   "id": "bd809b65",
   "metadata": {},
   "source": [
    "# Задача 1\n",
    "\n",
    "## Случайный вектор ${(\\xi_1, \\xi_2, \\xi_3, \\xi_4, \\xi_5, \\eta)}$ имеет компоненты, распределенные по следующему закону: ${\\xi_k \\sim R(-1, 1), \\eta \\sim N(2+3x_1-2x_2+x_3+x_4-x_5, 1.5^2)}$, где ${x_k}$ это значения, которые принимает случайная величина ${\\xi_k}$. Сгенерировать выборку объема n = 50."
   ]
  },
  {
   "cell_type": "code",
   "execution_count": 178,
   "id": "53789622",
   "metadata": {},
   "outputs": [],
   "source": [
    "import random\n",
    "import numpy as np\n",
    "import scipy.stats as ss\n",
    "import statsmodels.api as sm\n",
    "from rich.console import Console\n",
    "from rich.table import Table\n",
    "from rich.panel import Panel\n",
    "from rich.text import Text\n",
    "from scipy.stats import t, f, norm\n",
    "import matplotlib.pyplot as plt\n",
    "import seaborn as sb\n",
    "from statsmodels.stats.diagnostic import lilliefors\n",
    "\n",
    "console = Console()\n",
    "np.random.seed(2005)\n",
    "\n",
    "n = 50\n",
    "alpha = 0.05\n",
    "\n",
    "xi_1 = np.random.uniform(-1.0, 1.0, n)\n",
    "xi_2 = np.random.uniform(-1.0, 1.0, n)\n",
    "xi_3 = np.random.uniform(-1.0, 1.0, n)\n",
    "xi_4 = np.random.uniform(-1.0, 1.0, n)\n",
    "xi_5 = np.random.uniform(-1.0, 1.0, n)\n",
    "\n",
    "psi = np.array([xi_1, xi_2, xi_3, xi_4, xi_5]).transpose()\n",
    "psi_transposed = psi.transpose()\n",
    "\n",
    "Y = np.random.normal(\n",
    "    loc=2 + 3 * xi_1 - 2 * xi_2 + xi_3 + xi_4 - xi_5, scale=1.5, size=n\n",
    ")"
   ]
  },
  {
   "cell_type": "markdown",
   "id": "7d1d8728",
   "metadata": {},
   "source": [
    "## a) Проверить переменные  ${\\xi_k}$ на мультиколлинеарность."
   ]
  },
  {
   "cell_type": "code",
   "execution_count": 179,
   "id": "53fe4c5a",
   "metadata": {},
   "outputs": [
    {
     "data": {
      "text/html": [
       "<pre style=\"white-space:pre;overflow-x:auto;line-height:normal;font-family:Menlo,'DejaVu Sans Mono',consolas,'Courier New',monospace\">┏━━━━━━━━━━━━┳━━━━━━━┳━━━━━━━━━━━━━━━┓\n",
       "┃<span style=\"color: #008000; text-decoration-color: #008000\"> Переменная </span>┃<span style=\"color: #008000; text-decoration-color: #008000\">  R²   </span>┃<span style=\"color: #008000; text-decoration-color: #008000\"> Независимость </span>┃\n",
       "┡━━━━━━━━━━━━╇━━━━━━━╇━━━━━━━━━━━━━━━┩\n",
       "│     ξ1     │ 0.042 │      Да       │\n",
       "│     ξ2     │ 0.185 │      Да       │\n",
       "│     ξ3     │ 0.071 │      Да       │\n",
       "│     ξ4     │ 0.022 │      Да       │\n",
       "│     ξ5     │ 0.163 │      Да       │\n",
       "└────────────┴───────┴───────────────┘\n",
       "</pre>\n"
      ],
      "text/plain": [
       "┏━━━━━━━━━━━━┳━━━━━━━┳━━━━━━━━━━━━━━━┓\n",
       "┃\u001b[32m \u001b[0m\u001b[32mПеременная\u001b[0m\u001b[32m \u001b[0m┃\u001b[32m \u001b[0m\u001b[32m R²  \u001b[0m\u001b[32m \u001b[0m┃\u001b[32m \u001b[0m\u001b[32mНезависимость\u001b[0m\u001b[32m \u001b[0m┃\n",
       "┡━━━━━━━━━━━━╇━━━━━━━╇━━━━━━━━━━━━━━━┩\n",
       "│     ξ1     │ 0.042 │      Да       │\n",
       "│     ξ2     │ 0.185 │      Да       │\n",
       "│     ξ3     │ 0.071 │      Да       │\n",
       "│     ξ4     │ 0.022 │      Да       │\n",
       "│     ξ5     │ 0.163 │      Да       │\n",
       "└────────────┴───────┴───────────────┘\n"
      ]
     },
     "metadata": {},
     "output_type": "display_data"
    }
   ],
   "source": [
    "table = Table(show_header=True, header_style=\"green\")\n",
    "table.add_column(\"Переменная\", justify=\"center\")\n",
    "table.add_column(\"R²\", justify=\"center\")\n",
    "table.add_column(\"Независимость\", justify=\"center\")\n",
    "\n",
    "for i in range(len(psi_transposed)):\n",
    "    xi = psi_transposed[i]\n",
    "    new_psi = []\n",
    "    for j in range(len(psi_transposed)):\n",
    "        if i != j:\n",
    "            new_psi.append(psi_transposed[j])\n",
    "    new_psi = np.array(new_psi).transpose()\n",
    "    model = sm.OLS(xi, sm.add_constant(new_psi)).fit()\n",
    "    table.add_row(f\"ξ{i+1}\", f\"{model.rsquared:.3f}\", f\"{'Да' if model.rsquared < 0.7 else 'Нет'}\")\n",
    "    \n",
    "console.print(table)"
   ]
  },
  {
   "cell_type": "markdown",
   "id": "e5dba526",
   "metadata": {},
   "source": [
    "### Отсюда можно сделать вывод, что все коэффициенты детерминации меньше 0.7, а значит мультиколлинеарность не наблюдается."
   ]
  },
  {
   "cell_type": "markdown",
   "id": "fa254dd1",
   "metadata": {},
   "source": [
    "## b) Определить уравнение линейной регрессии ${\\eta = \\beta_0 + \\sum\\limits_{k=1}^{5} \\beta_k \\xi_k}$ и проверить значимость коэффициентов."
   ]
  },
  {
   "cell_type": "code",
   "execution_count": 180,
   "id": "18655871",
   "metadata": {},
   "outputs": [
    {
     "data": {
      "text/html": [
       "<pre style=\"white-space:pre;overflow-x:auto;line-height:normal;font-family:Menlo,'DejaVu Sans Mono',consolas,'Courier New',monospace\">                            OLS Regression Results                            \n",
       "==============================================================================\n",
       "Dep. Variable:                      y   R-squared:                       <span style=\"color: #008080; text-decoration-color: #008080; font-weight: bold\">0.676</span>\n",
       "Model:                            OLS   Adj. R-squared:                  <span style=\"color: #008080; text-decoration-color: #008080; font-weight: bold\">0.639</span>\n",
       "Method:                 Least Squares   F-statistic:                     <span style=\"color: #008080; text-decoration-color: #008080; font-weight: bold\">18.38</span>\n",
       "Date:                Mon, <span style=\"color: #008080; text-decoration-color: #008080; font-weight: bold\">05</span> May <span style=\"color: #008080; text-decoration-color: #008080; font-weight: bold\">2025</span>   Prob <span style=\"font-weight: bold\">(</span>F-statistic<span style=\"font-weight: bold\">)</span>:           <span style=\"color: #008080; text-decoration-color: #008080; font-weight: bold\">8.14e-10</span>\n",
       "Time:                        <span style=\"color: #00ff00; text-decoration-color: #00ff00; font-weight: bold\">14:42:47</span>   Log-Likelihood:                <span style=\"color: #008080; text-decoration-color: #008080; font-weight: bold\">-92.460</span>\n",
       "No. Observations:                  <span style=\"color: #008080; text-decoration-color: #008080; font-weight: bold\">50</span>   AIC:                             <span style=\"color: #008080; text-decoration-color: #008080; font-weight: bold\">196.9</span>\n",
       "Df Residuals:                      <span style=\"color: #008080; text-decoration-color: #008080; font-weight: bold\">44</span>   BIC:                             <span style=\"color: #008080; text-decoration-color: #008080; font-weight: bold\">208.4</span>\n",
       "Df Model:                           <span style=\"color: #008080; text-decoration-color: #008080; font-weight: bold\">5</span>                                         \n",
       "Covariance Type:            nonrobust                                         \n",
       "==============================================================================\n",
       "                 coef    std err          t      P&gt;|t|      <span style=\"font-weight: bold\">[</span><span style=\"color: #008080; text-decoration-color: #008080; font-weight: bold\">0.025</span>      <span style=\"color: #008080; text-decoration-color: #008080; font-weight: bold\">0.975</span><span style=\"font-weight: bold\">]</span>\n",
       "------------------------------------------------------------------------------\n",
       "const          <span style=\"color: #008080; text-decoration-color: #008080; font-weight: bold\">2.2556</span>      <span style=\"color: #008080; text-decoration-color: #008080; font-weight: bold\">0.240</span>      <span style=\"color: #008080; text-decoration-color: #008080; font-weight: bold\">9.417</span>      <span style=\"color: #008080; text-decoration-color: #008080; font-weight: bold\">0.000</span>       <span style=\"color: #008080; text-decoration-color: #008080; font-weight: bold\">1.773</span>       <span style=\"color: #008080; text-decoration-color: #008080; font-weight: bold\">2.738</span>\n",
       "x1             <span style=\"color: #008080; text-decoration-color: #008080; font-weight: bold\">2.4804</span>      <span style=\"color: #008080; text-decoration-color: #008080; font-weight: bold\">0.404</span>      <span style=\"color: #008080; text-decoration-color: #008080; font-weight: bold\">6.141</span>      <span style=\"color: #008080; text-decoration-color: #008080; font-weight: bold\">0.000</span>       <span style=\"color: #008080; text-decoration-color: #008080; font-weight: bold\">1.666</span>       <span style=\"color: #008080; text-decoration-color: #008080; font-weight: bold\">3.294</span>\n",
       "x2            <span style=\"color: #008080; text-decoration-color: #008080; font-weight: bold\">-1.4489</span>      <span style=\"color: #008080; text-decoration-color: #008080; font-weight: bold\">0.447</span>     <span style=\"color: #008080; text-decoration-color: #008080; font-weight: bold\">-3.241</span>      <span style=\"color: #008080; text-decoration-color: #008080; font-weight: bold\">0.002</span>      <span style=\"color: #008080; text-decoration-color: #008080; font-weight: bold\">-2.350</span>      <span style=\"color: #008080; text-decoration-color: #008080; font-weight: bold\">-0.548</span>\n",
       "x3             <span style=\"color: #008080; text-decoration-color: #008080; font-weight: bold\">1.2317</span>      <span style=\"color: #008080; text-decoration-color: #008080; font-weight: bold\">0.410</span>      <span style=\"color: #008080; text-decoration-color: #008080; font-weight: bold\">3.003</span>      <span style=\"color: #008080; text-decoration-color: #008080; font-weight: bold\">0.004</span>       <span style=\"color: #008080; text-decoration-color: #008080; font-weight: bold\">0.405</span>       <span style=\"color: #008080; text-decoration-color: #008080; font-weight: bold\">2.058</span>\n",
       "x4             <span style=\"color: #008080; text-decoration-color: #008080; font-weight: bold\">1.5984</span>      <span style=\"color: #008080; text-decoration-color: #008080; font-weight: bold\">0.415</span>      <span style=\"color: #008080; text-decoration-color: #008080; font-weight: bold\">3.848</span>      <span style=\"color: #008080; text-decoration-color: #008080; font-weight: bold\">0.000</span>       <span style=\"color: #008080; text-decoration-color: #008080; font-weight: bold\">0.761</span>       <span style=\"color: #008080; text-decoration-color: #008080; font-weight: bold\">2.436</span>\n",
       "x5            <span style=\"color: #008080; text-decoration-color: #008080; font-weight: bold\">-0.8704</span>      <span style=\"color: #008080; text-decoration-color: #008080; font-weight: bold\">0.399</span>     <span style=\"color: #008080; text-decoration-color: #008080; font-weight: bold\">-2.179</span>      <span style=\"color: #008080; text-decoration-color: #008080; font-weight: bold\">0.035</span>      <span style=\"color: #008080; text-decoration-color: #008080; font-weight: bold\">-1.675</span>      <span style=\"color: #008080; text-decoration-color: #008080; font-weight: bold\">-0.066</span>\n",
       "==============================================================================\n",
       "Omnibus:                        <span style=\"color: #008080; text-decoration-color: #008080; font-weight: bold\">1.058</span>   Durbin-Watson:                   <span style=\"color: #008080; text-decoration-color: #008080; font-weight: bold\">2.222</span>\n",
       "<span style=\"color: #800080; text-decoration-color: #800080; font-weight: bold\">Prob</span><span style=\"font-weight: bold\">(</span>Omnibus<span style=\"font-weight: bold\">)</span>:                  <span style=\"color: #008080; text-decoration-color: #008080; font-weight: bold\">0.589</span>   Jarque-Bera <span style=\"font-weight: bold\">(</span>JB<span style=\"font-weight: bold\">)</span>:                <span style=\"color: #008080; text-decoration-color: #008080; font-weight: bold\">1.084</span>\n",
       "Skew:                           <span style=\"color: #008080; text-decoration-color: #008080; font-weight: bold\">0.245</span>   <span style=\"color: #800080; text-decoration-color: #800080; font-weight: bold\">Prob</span><span style=\"font-weight: bold\">(</span>JB<span style=\"font-weight: bold\">)</span>:                        <span style=\"color: #008080; text-decoration-color: #008080; font-weight: bold\">0.582</span>\n",
       "Kurtosis:                       <span style=\"color: #008080; text-decoration-color: #008080; font-weight: bold\">2.470</span>   Cond. No.                         <span style=\"color: #008080; text-decoration-color: #008080; font-weight: bold\">2.29</span>\n",
       "==============================================================================\n",
       "\n",
       "Notes:\n",
       "<span style=\"font-weight: bold\">[</span><span style=\"color: #008080; text-decoration-color: #008080; font-weight: bold\">1</span><span style=\"font-weight: bold\">]</span> Standard Errors assume that the covariance matrix of the errors is correctly specified.\n",
       "</pre>\n"
      ],
      "text/plain": [
       "                            OLS Regression Results                            \n",
       "==============================================================================\n",
       "Dep. Variable:                      y   R-squared:                       \u001b[1;36m0.676\u001b[0m\n",
       "Model:                            OLS   Adj. R-squared:                  \u001b[1;36m0.639\u001b[0m\n",
       "Method:                 Least Squares   F-statistic:                     \u001b[1;36m18.38\u001b[0m\n",
       "Date:                Mon, \u001b[1;36m05\u001b[0m May \u001b[1;36m2025\u001b[0m   Prob \u001b[1m(\u001b[0mF-statistic\u001b[1m)\u001b[0m:           \u001b[1;36m8.14e-10\u001b[0m\n",
       "Time:                        \u001b[1;92m14:42:47\u001b[0m   Log-Likelihood:                \u001b[1;36m-92.460\u001b[0m\n",
       "No. Observations:                  \u001b[1;36m50\u001b[0m   AIC:                             \u001b[1;36m196.9\u001b[0m\n",
       "Df Residuals:                      \u001b[1;36m44\u001b[0m   BIC:                             \u001b[1;36m208.4\u001b[0m\n",
       "Df Model:                           \u001b[1;36m5\u001b[0m                                         \n",
       "Covariance Type:            nonrobust                                         \n",
       "==============================================================================\n",
       "                 coef    std err          t      P>|t|      \u001b[1m[\u001b[0m\u001b[1;36m0.025\u001b[0m      \u001b[1;36m0.975\u001b[0m\u001b[1m]\u001b[0m\n",
       "------------------------------------------------------------------------------\n",
       "const          \u001b[1;36m2.2556\u001b[0m      \u001b[1;36m0.240\u001b[0m      \u001b[1;36m9.417\u001b[0m      \u001b[1;36m0.000\u001b[0m       \u001b[1;36m1.773\u001b[0m       \u001b[1;36m2.738\u001b[0m\n",
       "x1             \u001b[1;36m2.4804\u001b[0m      \u001b[1;36m0.404\u001b[0m      \u001b[1;36m6.141\u001b[0m      \u001b[1;36m0.000\u001b[0m       \u001b[1;36m1.666\u001b[0m       \u001b[1;36m3.294\u001b[0m\n",
       "x2            \u001b[1;36m-1.4489\u001b[0m      \u001b[1;36m0.447\u001b[0m     \u001b[1;36m-3.241\u001b[0m      \u001b[1;36m0.002\u001b[0m      \u001b[1;36m-2.350\u001b[0m      \u001b[1;36m-0.548\u001b[0m\n",
       "x3             \u001b[1;36m1.2317\u001b[0m      \u001b[1;36m0.410\u001b[0m      \u001b[1;36m3.003\u001b[0m      \u001b[1;36m0.004\u001b[0m       \u001b[1;36m0.405\u001b[0m       \u001b[1;36m2.058\u001b[0m\n",
       "x4             \u001b[1;36m1.5984\u001b[0m      \u001b[1;36m0.415\u001b[0m      \u001b[1;36m3.848\u001b[0m      \u001b[1;36m0.000\u001b[0m       \u001b[1;36m0.761\u001b[0m       \u001b[1;36m2.436\u001b[0m\n",
       "x5            \u001b[1;36m-0.8704\u001b[0m      \u001b[1;36m0.399\u001b[0m     \u001b[1;36m-2.179\u001b[0m      \u001b[1;36m0.035\u001b[0m      \u001b[1;36m-1.675\u001b[0m      \u001b[1;36m-0.066\u001b[0m\n",
       "==============================================================================\n",
       "Omnibus:                        \u001b[1;36m1.058\u001b[0m   Durbin-Watson:                   \u001b[1;36m2.222\u001b[0m\n",
       "\u001b[1;35mProb\u001b[0m\u001b[1m(\u001b[0mOmnibus\u001b[1m)\u001b[0m:                  \u001b[1;36m0.589\u001b[0m   Jarque-Bera \u001b[1m(\u001b[0mJB\u001b[1m)\u001b[0m:                \u001b[1;36m1.084\u001b[0m\n",
       "Skew:                           \u001b[1;36m0.245\u001b[0m   \u001b[1;35mProb\u001b[0m\u001b[1m(\u001b[0mJB\u001b[1m)\u001b[0m:                        \u001b[1;36m0.582\u001b[0m\n",
       "Kurtosis:                       \u001b[1;36m2.470\u001b[0m   Cond. No.                         \u001b[1;36m2.29\u001b[0m\n",
       "==============================================================================\n",
       "\n",
       "Notes:\n",
       "\u001b[1m[\u001b[0m\u001b[1;36m1\u001b[0m\u001b[1m]\u001b[0m Standard Errors assume that the covariance matrix of the errors is correctly specified.\n"
      ]
     },
     "metadata": {},
     "output_type": "display_data"
    }
   ],
   "source": [
    "model = sm.OLS(Y, sm.add_constant(psi)).fit()\n",
    "console.print(model.summary())"
   ]
  },
  {
   "cell_type": "code",
   "execution_count": 181,
   "id": "839ea317",
   "metadata": {},
   "outputs": [
    {
     "data": {
      "text/html": [
       "<pre style=\"white-space:pre;overflow-x:auto;line-height:normal;font-family:Menlo,'DejaVu Sans Mono',consolas,'Courier New',monospace\">┏━━━━━━━━━━━━━┳━━━━━━━━━━━━━━━━━━━━━┳━━━━━━━━━━━━━━━━━━━━━━━━┳━━━━━━━━━━━━━━━━━┓\n",
       "┃<span style=\"color: #008000; text-decoration-color: #008000\"> Коэффициент </span>┃<span style=\"color: #008000; text-decoration-color: #008000\">      Значение       </span>┃<span style=\"color: #008000; text-decoration-color: #008000\">        p-value         </span>┃<span style=\"color: #008000; text-decoration-color: #008000\"> Значим/Незначим </span>┃\n",
       "┡━━━━━━━━━━━━━╇━━━━━━━━━━━━━━━━━━━━━╇━━━━━━━━━━━━━━━━━━━━━━━━╇━━━━━━━━━━━━━━━━━┩\n",
       "│     β0      │  2.255604057158955  │  4.1185954359687e-12   │     Значим      │\n",
       "│     β1      │ 2.4804279689909974  │ 2.0937503275683256e-07 │     Значим      │\n",
       "│     β2      │ -1.4489208162165248 │ 0.0022704397212762605  │     Значим      │\n",
       "│     β3      │ 1.2317425930099752  │  0.004392293361737991  │     Значим      │\n",
       "│     β4      │ 1.5983972686432164  │ 0.0003810857945403662  │     Значим      │\n",
       "│     β5      │ -0.8704250319849758 │   0.0346923450991037   │     Значим      │\n",
       "└─────────────┴─────────────────────┴────────────────────────┴─────────────────┘\n",
       "</pre>\n"
      ],
      "text/plain": [
       "┏━━━━━━━━━━━━━┳━━━━━━━━━━━━━━━━━━━━━┳━━━━━━━━━━━━━━━━━━━━━━━━┳━━━━━━━━━━━━━━━━━┓\n",
       "┃\u001b[32m \u001b[0m\u001b[32mКоэффициент\u001b[0m\u001b[32m \u001b[0m┃\u001b[32m \u001b[0m\u001b[32m     Значение      \u001b[0m\u001b[32m \u001b[0m┃\u001b[32m \u001b[0m\u001b[32m       p-value        \u001b[0m\u001b[32m \u001b[0m┃\u001b[32m \u001b[0m\u001b[32mЗначим/Незначим\u001b[0m\u001b[32m \u001b[0m┃\n",
       "┡━━━━━━━━━━━━━╇━━━━━━━━━━━━━━━━━━━━━╇━━━━━━━━━━━━━━━━━━━━━━━━╇━━━━━━━━━━━━━━━━━┩\n",
       "│     β0      │  2.255604057158955  │  4.1185954359687e-12   │     Значим      │\n",
       "│     β1      │ 2.4804279689909974  │ 2.0937503275683256e-07 │     Значим      │\n",
       "│     β2      │ -1.4489208162165248 │ 0.0022704397212762605  │     Значим      │\n",
       "│     β3      │ 1.2317425930099752  │  0.004392293361737991  │     Значим      │\n",
       "│     β4      │ 1.5983972686432164  │ 0.0003810857945403662  │     Значим      │\n",
       "│     β5      │ -0.8704250319849758 │   0.0346923450991037   │     Значим      │\n",
       "└─────────────┴─────────────────────┴────────────────────────┴─────────────────┘\n"
      ]
     },
     "metadata": {},
     "output_type": "display_data"
    }
   ],
   "source": [
    "psi = sm.add_constant(psi)\n",
    "\n",
    "F = np.dot(psi.transpose(), psi)\n",
    "F_inverse = np.linalg.inv(F)\n",
    "\n",
    "p = len(model.params)\n",
    "\n",
    "table = Table(show_header=True, header_style=\"green\")\n",
    "table.add_column(\"Коэффициент\", justify=\"center\")\n",
    "table.add_column(\"Значение\", justify=\"center\")\n",
    "table.add_column(\"p-value\", justify=\"center\")\n",
    "table.add_column(\"Значим/Незначим\", justify=\"center\")\n",
    "\n",
    "for i, beta_i in enumerate(model.params):\n",
    "    delta_wave = abs(beta_i / np.sqrt(model.ssr * F_inverse[i][i]) * np.sqrt(n - p))\n",
    "    p_value = 2 * t.sf(delta_wave, n - p)\n",
    "    table.add_row(f\"β{i}\", f\"{beta_i}\", f\"{p_value}\", f\"{'Значим' if p_value < alpha else 'Незначим'}\")\n",
    "\n",
    "console.print(table)"
   ]
  },
  {
   "cell_type": "markdown",
   "id": "c1084afc",
   "metadata": {},
   "source": [
    "### Коэффициенты, у которых p-value меньше 0.05, являются значимыми, а у которых больше 0.05 - незначимыми."
   ]
  },
  {
   "cell_type": "markdown",
   "id": "59e20bf5",
   "metadata": {},
   "source": [
    "## c) Определить коэффициент детерминации и проверить его значимость."
   ]
  },
  {
   "cell_type": "code",
   "execution_count": 182,
   "id": "3933971d",
   "metadata": {},
   "outputs": [
    {
     "data": {
      "text/html": [
       "<pre style=\"white-space:pre;overflow-x:auto;line-height:normal;font-family:Menlo,'DejaVu Sans Mono',consolas,'Courier New',monospace\">Коэффициент детерминации, R² = <span style=\"color: #008080; text-decoration-color: #008080; font-weight: bold\">0.6762014954141751</span>\n",
       "</pre>\n"
      ],
      "text/plain": [
       "Коэффициент детерминации, R² = \u001b[1;36m0.6762014954141751\u001b[0m\n"
      ]
     },
     "metadata": {},
     "output_type": "display_data"
    },
    {
     "data": {
      "text/html": [
       "<pre style=\"white-space:pre;overflow-x:auto;line-height:normal;font-family:Menlo,'DejaVu Sans Mono',consolas,'Courier New',monospace\">p-value = <span style=\"color: #008080; text-decoration-color: #008080; font-weight: bold\">8.139192389466351e-10</span> &lt; <span style=\"color: #008080; text-decoration-color: #008080; font-weight: bold\">0.05</span>\n",
       "</pre>\n"
      ],
      "text/plain": [
       "p-value = \u001b[1;36m8.139192389466351e-10\u001b[0m < \u001b[1;36m0.05\u001b[0m\n"
      ]
     },
     "metadata": {},
     "output_type": "display_data"
    }
   ],
   "source": [
    "console.print(f\"Коэффициент детерминации, R² = {model.rsquared}\")\n",
    "\n",
    "RSS = model.ssr\n",
    "TSS = model.centered_tss\n",
    "\n",
    "delta_wave = ((TSS - RSS) / (p - 1)) / (RSS / (n - p))\n",
    "p_value = f.sf(delta_wave, p - 1, n - p) \n",
    "\n",
    "console.print(f\"p-value = {p_value} {'>' if p_value > alpha else '<'} {alpha}\")"
   ]
  },
  {
   "cell_type": "markdown",
   "id": "0243c5c6",
   "metadata": {},
   "source": [
    "### Мы видим, что p-value меньше 0.05, значит регрессия значима."
   ]
  },
  {
   "cell_type": "markdown",
   "id": "234cf3eb",
   "metadata": {},
   "source": [
    "## d) Найти значение в точке ${x_k=0}$ и построить 95% доверительный интервал."
   ]
  },
  {
   "cell_type": "code",
   "execution_count": 183,
   "id": "b6dbdd7d",
   "metadata": {},
   "outputs": [
    {
     "data": {
      "text/html": [
       "<pre style=\"white-space:pre;overflow-x:auto;line-height:normal;font-family:Menlo,'DejaVu Sans Mono',consolas,'Courier New',monospace\">Δ = <span style=\"color: #008080; text-decoration-color: #008080; font-weight: bold\">3.338606140371789</span>\n",
       "</pre>\n"
      ],
      "text/plain": [
       "Δ = \u001b[1;36m3.338606140371789\u001b[0m\n"
      ]
     },
     "metadata": {},
     "output_type": "display_data"
    },
    {
     "data": {
      "text/html": [
       "<pre style=\"white-space:pre;overflow-x:auto;line-height:normal;font-family:Menlo,'DejaVu Sans Mono',consolas,'Courier New',monospace\">Доверительный интервал: <span style=\"font-weight: bold\">(</span><span style=\"color: #008080; text-decoration-color: #008080; font-weight: bold\">-1.083002083212834</span>, <span style=\"color: #008080; text-decoration-color: #008080; font-weight: bold\">5.594210197530744</span><span style=\"font-weight: bold\">)</span>, длина: <span style=\"color: #008080; text-decoration-color: #008080; font-weight: bold\">6.677212280743578</span>\n",
       "</pre>\n"
      ],
      "text/plain": [
       "Доверительный интервал: \u001b[1m(\u001b[0m\u001b[1;36m-1.083002083212834\u001b[0m, \u001b[1;36m5.594210197530744\u001b[0m\u001b[1m)\u001b[0m, длина: \u001b[1;36m6.677212280743578\u001b[0m\n"
      ]
     },
     "metadata": {},
     "output_type": "display_data"
    }
   ],
   "source": [
    "x_1, x_2, x_3, x_4, x_5 = 0, 0, 0, 0, 0\n",
    "\n",
    "Y_k = np.random.normal(loc=2 + 3 * x_1 - 2 * x_2 + x_3 + x_4 - x_5, scale=1.5)\n",
    "\n",
    "psi_0 = np.array([1, x_1, x_2, x_3, x_4, x_5]).transpose()\n",
    "\n",
    "beta = 0.95\n",
    "\n",
    "delta = (\n",
    "    t.ppf((1 + beta) / 2, n - p)\n",
    "    * np.sqrt(1 + np.dot(psi_0, np.dot(F_inverse, psi_0.transpose())))\n",
    "    * np.sqrt(RSS / (n - p))\n",
    ")\n",
    "\n",
    "y_wave = np.dot(psi_0, model.params)\n",
    "\n",
    "console.print(f\"Δ = {delta}\")\n",
    "console.print(f\"Доверительный интервал: ({y_wave - delta}, {y_wave + delta}), длина: {2 * delta}\")"
   ]
  },
  {
   "cell_type": "markdown",
   "id": "e28b2ce5",
   "metadata": {},
   "source": [
    "## e) Проверить предположение о независимости ошибок измерения."
   ]
  },
  {
   "cell_type": "code",
   "execution_count": 184,
   "id": "5ee5812f",
   "metadata": {},
   "outputs": [
    {
     "data": {
      "text/html": [
       "<pre style=\"white-space:pre;overflow-x:auto;line-height:normal;font-family:Menlo,'DejaVu Sans Mono',consolas,'Courier New',monospace\">p-value = <span style=\"color: #008080; text-decoration-color: #008080; font-weight: bold\">0.640721345025641</span> &gt; <span style=\"color: #008080; text-decoration-color: #008080; font-weight: bold\">0.05</span>\n",
       "</pre>\n"
      ],
      "text/plain": [
       "p-value = \u001b[1;36m0.640721345025641\u001b[0m > \u001b[1;36m0.05\u001b[0m\n"
      ]
     },
     "metadata": {},
     "output_type": "display_data"
    }
   ],
   "source": [
    "e = model.resid\n",
    "\n",
    "In = 0\n",
    "\n",
    "for i in range(len(e)):\n",
    "    for j in range(i, len(e)):\n",
    "        if e[i] > e[j]:\n",
    "            In += 1\n",
    "\n",
    "delta_wave = abs((In - (n * (n - 1)) / 4) / np.sqrt(n**3 / 36))\n",
    "\n",
    "p_value = 2 * norm.sf(delta_wave)\n",
    "\n",
    "console.print(f\"p-value = {p_value} {'>' if p_value > alpha else '<'} {alpha}\")"
   ]
  },
  {
   "cell_type": "markdown",
   "id": "9a396870",
   "metadata": {},
   "source": [
    "### p-value получился больше 0.05, значит у нас нет оснований отвергать гипотезу случайности ошибок. Тоже самое, что и гипотеза о незавизимости ошибок измерения."
   ]
  },
  {
   "cell_type": "markdown",
   "id": "96bdc5fc",
   "metadata": {},
   "source": [
    "## f) Проверить предположение о нормальности распределения ошибок."
   ]
  },
  {
   "cell_type": "code",
   "execution_count": 185,
   "id": "6fd90096",
   "metadata": {},
   "outputs": [
    {
     "data": {
      "text/html": [
       "<pre style=\"white-space:pre;overflow-x:auto;line-height:normal;font-family:Menlo,'DejaVu Sans Mono',consolas,'Courier New',monospace\">Δ = <span style=\"color: #008080; text-decoration-color: #008080; font-weight: bold\">0.10189409464107807</span>\n",
       "</pre>\n"
      ],
      "text/plain": [
       "Δ = \u001b[1;36m0.10189409464107807\u001b[0m\n"
      ]
     },
     "metadata": {},
     "output_type": "display_data"
    },
    {
     "data": {
      "text/html": [
       "<pre style=\"white-space:pre;overflow-x:auto;line-height:normal;font-family:Menlo,'DejaVu Sans Mono',consolas,'Courier New',monospace\">p-value = <span style=\"color: #008080; text-decoration-color: #008080; font-weight: bold\">0.22024577321099162</span> &gt; <span style=\"color: #008080; text-decoration-color: #008080; font-weight: bold\">0.05</span>\n",
       "</pre>\n"
      ],
      "text/plain": [
       "p-value = \u001b[1;36m0.22024577321099162\u001b[0m > \u001b[1;36m0.05\u001b[0m\n"
      ]
     },
     "metadata": {},
     "output_type": "display_data"
    }
   ],
   "source": [
    "delta, p_value = lilliefors(e)\n",
    "\n",
    "console.print(f'Δ = {delta}')\n",
    "console.print(f'p-value = {p_value} {'>' if p_value > alpha else '<'} {alpha}')"
   ]
  },
  {
   "cell_type": "markdown",
   "id": "b9b2fb85",
   "metadata": {},
   "source": [
    "### Так как p-value больше 0.05, то у нас нет оснований отвергать гипотезу."
   ]
  },
  {
   "cell_type": "markdown",
   "id": "89915c5d",
   "metadata": {},
   "source": [
    "## g) Исследовать регрессию на выбросы."
   ]
  },
  {
   "cell_type": "code",
   "execution_count": 186,
   "id": "07524268",
   "metadata": {},
   "outputs": [
    {
     "data": {
      "image/png": "[encoded data removed]",
      "text/plain": [
       "<Figure size 700x100 with 1 Axes>"
      ]
     },
     "metadata": {},
     "output_type": "display_data"
    }
   ],
   "source": [
    "plt.figure(figsize=(7, 1))\n",
    "sb.boxplot(x=e, linecolor=\"black\")\n",
    "\n",
    "plt.title(\"Boxplot\")\n",
    "plt.grid(True)\n",
    "plt.show()"
   ]
  },
  {
   "cell_type": "markdown",
   "id": "94e6219f",
   "metadata": {},
   "source": [
    "## h) Провести кросс-проверку регрессии."
   ]
  },
  {
   "cell_type": "code",
   "execution_count": 187,
   "id": "e5be389c",
   "metadata": {},
   "outputs": [
    {
     "data": {
      "text/html": [
       "<pre style=\"white-space:pre;overflow-x:auto;line-height:normal;font-family:Menlo,'DejaVu Sans Mono',consolas,'Courier New',monospace\">CVSS = <span style=\"color: #008080; text-decoration-color: #008080; font-weight: bold\">150.08451941303198</span>\n",
       "</pre>\n"
      ],
      "text/plain": [
       "CVSS = \u001b[1;36m150.08451941303198\u001b[0m\n"
      ]
     },
     "metadata": {},
     "output_type": "display_data"
    },
    {
     "data": {
      "text/html": [
       "<pre style=\"white-space:pre;overflow-x:auto;line-height:normal;font-family:Menlo,'DejaVu Sans Mono',consolas,'Courier New',monospace\">Кросс-валидация: R² = <span style=\"color: #008080; text-decoration-color: #008080; font-weight: bold\">0.5889338069034656</span>\n",
       "</pre>\n"
      ],
      "text/plain": [
       "Кросс-валидация: R² = \u001b[1;36m0.5889338069034656\u001b[0m\n"
      ]
     },
     "metadata": {},
     "output_type": "display_data"
    }
   ],
   "source": [
    "CVSS = 0\n",
    "\n",
    "for i in range(n):\n",
    "    train_x = list(psi)\n",
    "    test_x = train_x.pop(i)\n",
    "\n",
    "    train_y = list(Y)\n",
    "    test_y = train_y.pop(i)\n",
    "\n",
    "    new_model = sm.OLS(train_y, train_x).fit()\n",
    "\n",
    "    y_wave = new_model.params.dot(test_x)\n",
    "\n",
    "    CVSS += (y_wave - test_y) ** 2\n",
    "\n",
    "console.print(f\"CVSS = {CVSS}\")\n",
    "console.print(f\"Кросс-валидация: R² = {(model.centered_tss - CVSS) / model.centered_tss}\")"
   ]
  },
  {
   "cell_type": "markdown",
   "id": "e70f3e85",
   "metadata": {},
   "source": [
    "## i) Проверить адекватность регрессии, сделав 5 повторных измерений в одной точке."
   ]
  },
  {
   "cell_type": "code",
   "execution_count": 188,
   "id": "1f136b6f",
   "metadata": {},
   "outputs": [
    {
     "data": {
      "text/html": [
       "<pre style=\"white-space:pre;overflow-x:auto;line-height:normal;font-family:Menlo,'DejaVu Sans Mono',consolas,'Courier New',monospace\">Δ = <span style=\"color: #008080; text-decoration-color: #008080; font-weight: bold\">2.6432981333407755</span>\n",
       "</pre>\n"
      ],
      "text/plain": [
       "Δ = \u001b[1;36m2.6432981333407755\u001b[0m\n"
      ]
     },
     "metadata": {},
     "output_type": "display_data"
    },
    {
     "data": {
      "text/html": [
       "<pre style=\"white-space:pre;overflow-x:auto;line-height:normal;font-family:Menlo,'DejaVu Sans Mono',consolas,'Courier New',monospace\">p-value = <span style=\"color: #008080; text-decoration-color: #008080; font-weight: bold\">0.17711387530316997</span> &gt; <span style=\"color: #008080; text-decoration-color: #008080; font-weight: bold\">0.05</span>\n",
       "</pre>\n"
      ],
      "text/plain": [
       "p-value = \u001b[1;36m0.17711387530316997\u001b[0m > \u001b[1;36m0.05\u001b[0m\n"
      ]
     },
     "metadata": {},
     "output_type": "display_data"
    }
   ],
   "source": [
    "point = [1, 0, 0, 0, 0, 0]\n",
    "l = 5\n",
    "\n",
    "Y_l = np.random.normal(loc=2, scale=1.5, size=l)\n",
    "Y_mean = np.mean(Y_l)\n",
    "\n",
    "sigma_square_1_wave = 1 / (l - 1) * sum([(Y_l[i] - Y_mean) ** 2 for i in range(l)])\n",
    "\n",
    "delta_wave = (RSS / (n - p)) / sigma_square_1_wave\n",
    "\n",
    "p_value = f.sf(delta_wave, n - p, l - 1)\n",
    "\n",
    "console.print(f\"Δ = {delta_wave}\")\n",
    "console.print(f\"p-value = {p_value} {'>' if p_value > alpha else '<'} {alpha}\")"
   ]
  },
  {
   "cell_type": "markdown",
   "id": "f5cd5d08",
   "metadata": {},
   "source": [
    "### Так как p-value больше 0.05, то у нас нет оснований отвергать гипотезу. Значит, модель адекватна."
   ]
  },
  {
   "cell_type": "markdown",
   "id": "acb67f0c",
   "metadata": {},
   "source": [
    "## j) Удалить переменную, соответствующую наименее значимому коэффициенту и повторить пункты b и c, сравнить уравнения регрессии."
   ]
  },
  {
   "cell_type": "markdown",
   "id": "4ef0154e",
   "metadata": {},
   "source": [
    "### В нашем случае наименее значимым является пятый коэффициент, так как у него наибольший p-value."
   ]
  },
  {
   "cell_type": "code",
   "execution_count": 189,
   "id": "99698dae",
   "metadata": {},
   "outputs": [
    {
     "data": {
      "text/html": [
       "<pre style=\"white-space:pre;overflow-x:auto;line-height:normal;font-family:Menlo,'DejaVu Sans Mono',consolas,'Courier New',monospace\">                            OLS Regression Results                            \n",
       "==============================================================================\n",
       "Dep. Variable:                      y   R-squared:                       <span style=\"color: #008080; text-decoration-color: #008080; font-weight: bold\">0.641</span>\n",
       "Model:                            OLS   Adj. R-squared:                  <span style=\"color: #008080; text-decoration-color: #008080; font-weight: bold\">0.609</span>\n",
       "Method:                 Least Squares   F-statistic:                     <span style=\"color: #008080; text-decoration-color: #008080; font-weight: bold\">20.11</span>\n",
       "Date:                Mon, <span style=\"color: #008080; text-decoration-color: #008080; font-weight: bold\">05</span> May <span style=\"color: #008080; text-decoration-color: #008080; font-weight: bold\">2025</span>   Prob <span style=\"font-weight: bold\">(</span>F-statistic<span style=\"font-weight: bold\">)</span>:           <span style=\"color: #008080; text-decoration-color: #008080; font-weight: bold\">1.48e-09</span>\n",
       "Time:                        <span style=\"color: #00ff00; text-decoration-color: #00ff00; font-weight: bold\">14:42:48</span>   Log-Likelihood:                <span style=\"color: #008080; text-decoration-color: #008080; font-weight: bold\">-95.023</span>\n",
       "No. Observations:                  <span style=\"color: #008080; text-decoration-color: #008080; font-weight: bold\">50</span>   AIC:                             <span style=\"color: #008080; text-decoration-color: #008080; font-weight: bold\">200.0</span>\n",
       "Df Residuals:                      <span style=\"color: #008080; text-decoration-color: #008080; font-weight: bold\">45</span>   BIC:                             <span style=\"color: #008080; text-decoration-color: #008080; font-weight: bold\">209.6</span>\n",
       "Df Model:                           <span style=\"color: #008080; text-decoration-color: #008080; font-weight: bold\">4</span>                                         \n",
       "Covariance Type:            nonrobust                                         \n",
       "==============================================================================\n",
       "                 coef    std err          t      P&gt;|t|      <span style=\"font-weight: bold\">[</span><span style=\"color: #008080; text-decoration-color: #008080; font-weight: bold\">0.025</span>      <span style=\"color: #008080; text-decoration-color: #008080; font-weight: bold\">0.975</span><span style=\"font-weight: bold\">]</span>\n",
       "------------------------------------------------------------------------------\n",
       "const          <span style=\"color: #008080; text-decoration-color: #008080; font-weight: bold\">2.2159</span>      <span style=\"color: #008080; text-decoration-color: #008080; font-weight: bold\">0.249</span>      <span style=\"color: #008080; text-decoration-color: #008080; font-weight: bold\">8.914</span>      <span style=\"color: #008080; text-decoration-color: #008080; font-weight: bold\">0.000</span>       <span style=\"color: #008080; text-decoration-color: #008080; font-weight: bold\">1.715</span>       <span style=\"color: #008080; text-decoration-color: #008080; font-weight: bold\">2.717</span>\n",
       "x1             <span style=\"color: #008080; text-decoration-color: #008080; font-weight: bold\">2.3953</span>      <span style=\"color: #008080; text-decoration-color: #008080; font-weight: bold\">0.418</span>      <span style=\"color: #008080; text-decoration-color: #008080; font-weight: bold\">5.724</span>      <span style=\"color: #008080; text-decoration-color: #008080; font-weight: bold\">0.000</span>       <span style=\"color: #008080; text-decoration-color: #008080; font-weight: bold\">1.552</span>       <span style=\"color: #008080; text-decoration-color: #008080; font-weight: bold\">3.238</span>\n",
       "x2            <span style=\"color: #008080; text-decoration-color: #008080; font-weight: bold\">-1.8150</span>      <span style=\"color: #008080; text-decoration-color: #008080; font-weight: bold\">0.431</span>     <span style=\"color: #008080; text-decoration-color: #008080; font-weight: bold\">-4.209</span>      <span style=\"color: #008080; text-decoration-color: #008080; font-weight: bold\">0.000</span>      <span style=\"color: #008080; text-decoration-color: #008080; font-weight: bold\">-2.683</span>      <span style=\"color: #008080; text-decoration-color: #008080; font-weight: bold\">-0.947</span>\n",
       "x3             <span style=\"color: #008080; text-decoration-color: #008080; font-weight: bold\">1.3146</span>      <span style=\"color: #008080; text-decoration-color: #008080; font-weight: bold\">0.425</span>      <span style=\"color: #008080; text-decoration-color: #008080; font-weight: bold\">3.093</span>      <span style=\"color: #008080; text-decoration-color: #008080; font-weight: bold\">0.003</span>       <span style=\"color: #008080; text-decoration-color: #008080; font-weight: bold\">0.459</span>       <span style=\"color: #008080; text-decoration-color: #008080; font-weight: bold\">2.171</span>\n",
       "x4             <span style=\"color: #008080; text-decoration-color: #008080; font-weight: bold\">1.6749</span>      <span style=\"color: #008080; text-decoration-color: #008080; font-weight: bold\">0.431</span>      <span style=\"color: #008080; text-decoration-color: #008080; font-weight: bold\">3.888</span>      <span style=\"color: #008080; text-decoration-color: #008080; font-weight: bold\">0.000</span>       <span style=\"color: #008080; text-decoration-color: #008080; font-weight: bold\">0.807</span>       <span style=\"color: #008080; text-decoration-color: #008080; font-weight: bold\">2.543</span>\n",
       "==============================================================================\n",
       "Omnibus:                        <span style=\"color: #008080; text-decoration-color: #008080; font-weight: bold\">1.201</span>   Durbin-Watson:                   <span style=\"color: #008080; text-decoration-color: #008080; font-weight: bold\">2.217</span>\n",
       "<span style=\"color: #800080; text-decoration-color: #800080; font-weight: bold\">Prob</span><span style=\"font-weight: bold\">(</span>Omnibus<span style=\"font-weight: bold\">)</span>:                  <span style=\"color: #008080; text-decoration-color: #008080; font-weight: bold\">0.548</span>   Jarque-Bera <span style=\"font-weight: bold\">(</span>JB<span style=\"font-weight: bold\">)</span>:                <span style=\"color: #008080; text-decoration-color: #008080; font-weight: bold\">1.179</span>\n",
       "Skew:                           <span style=\"color: #008080; text-decoration-color: #008080; font-weight: bold\">0.344</span>   <span style=\"color: #800080; text-decoration-color: #800080; font-weight: bold\">Prob</span><span style=\"font-weight: bold\">(</span>JB<span style=\"font-weight: bold\">)</span>:                        <span style=\"color: #008080; text-decoration-color: #008080; font-weight: bold\">0.555</span>\n",
       "Kurtosis:                       <span style=\"color: #008080; text-decoration-color: #008080; font-weight: bold\">2.696</span>   Cond. No.                         <span style=\"color: #008080; text-decoration-color: #008080; font-weight: bold\">2.01</span>\n",
       "==============================================================================\n",
       "\n",
       "Notes:\n",
       "<span style=\"font-weight: bold\">[</span><span style=\"color: #008080; text-decoration-color: #008080; font-weight: bold\">1</span><span style=\"font-weight: bold\">]</span> Standard Errors assume that the covariance matrix of the errors is correctly specified.\n",
       "</pre>\n"
      ],
      "text/plain": [
       "                            OLS Regression Results                            \n",
       "==============================================================================\n",
       "Dep. Variable:                      y   R-squared:                       \u001b[1;36m0.641\u001b[0m\n",
       "Model:                            OLS   Adj. R-squared:                  \u001b[1;36m0.609\u001b[0m\n",
       "Method:                 Least Squares   F-statistic:                     \u001b[1;36m20.11\u001b[0m\n",
       "Date:                Mon, \u001b[1;36m05\u001b[0m May \u001b[1;36m2025\u001b[0m   Prob \u001b[1m(\u001b[0mF-statistic\u001b[1m)\u001b[0m:           \u001b[1;36m1.48e-09\u001b[0m\n",
       "Time:                        \u001b[1;92m14:42:48\u001b[0m   Log-Likelihood:                \u001b[1;36m-95.023\u001b[0m\n",
       "No. Observations:                  \u001b[1;36m50\u001b[0m   AIC:                             \u001b[1;36m200.0\u001b[0m\n",
       "Df Residuals:                      \u001b[1;36m45\u001b[0m   BIC:                             \u001b[1;36m209.6\u001b[0m\n",
       "Df Model:                           \u001b[1;36m4\u001b[0m                                         \n",
       "Covariance Type:            nonrobust                                         \n",
       "==============================================================================\n",
       "                 coef    std err          t      P>|t|      \u001b[1m[\u001b[0m\u001b[1;36m0.025\u001b[0m      \u001b[1;36m0.975\u001b[0m\u001b[1m]\u001b[0m\n",
       "------------------------------------------------------------------------------\n",
       "const          \u001b[1;36m2.2159\u001b[0m      \u001b[1;36m0.249\u001b[0m      \u001b[1;36m8.914\u001b[0m      \u001b[1;36m0.000\u001b[0m       \u001b[1;36m1.715\u001b[0m       \u001b[1;36m2.717\u001b[0m\n",
       "x1             \u001b[1;36m2.3953\u001b[0m      \u001b[1;36m0.418\u001b[0m      \u001b[1;36m5.724\u001b[0m      \u001b[1;36m0.000\u001b[0m       \u001b[1;36m1.552\u001b[0m       \u001b[1;36m3.238\u001b[0m\n",
       "x2            \u001b[1;36m-1.8150\u001b[0m      \u001b[1;36m0.431\u001b[0m     \u001b[1;36m-4.209\u001b[0m      \u001b[1;36m0.000\u001b[0m      \u001b[1;36m-2.683\u001b[0m      \u001b[1;36m-0.947\u001b[0m\n",
       "x3             \u001b[1;36m1.3146\u001b[0m      \u001b[1;36m0.425\u001b[0m      \u001b[1;36m3.093\u001b[0m      \u001b[1;36m0.003\u001b[0m       \u001b[1;36m0.459\u001b[0m       \u001b[1;36m2.171\u001b[0m\n",
       "x4             \u001b[1;36m1.6749\u001b[0m      \u001b[1;36m0.431\u001b[0m      \u001b[1;36m3.888\u001b[0m      \u001b[1;36m0.000\u001b[0m       \u001b[1;36m0.807\u001b[0m       \u001b[1;36m2.543\u001b[0m\n",
       "==============================================================================\n",
       "Omnibus:                        \u001b[1;36m1.201\u001b[0m   Durbin-Watson:                   \u001b[1;36m2.217\u001b[0m\n",
       "\u001b[1;35mProb\u001b[0m\u001b[1m(\u001b[0mOmnibus\u001b[1m)\u001b[0m:                  \u001b[1;36m0.548\u001b[0m   Jarque-Bera \u001b[1m(\u001b[0mJB\u001b[1m)\u001b[0m:                \u001b[1;36m1.179\u001b[0m\n",
       "Skew:                           \u001b[1;36m0.344\u001b[0m   \u001b[1;35mProb\u001b[0m\u001b[1m(\u001b[0mJB\u001b[1m)\u001b[0m:                        \u001b[1;36m0.555\u001b[0m\n",
       "Kurtosis:                       \u001b[1;36m2.696\u001b[0m   Cond. No.                         \u001b[1;36m2.01\u001b[0m\n",
       "==============================================================================\n",
       "\n",
       "Notes:\n",
       "\u001b[1m[\u001b[0m\u001b[1;36m1\u001b[0m\u001b[1m]\u001b[0m Standard Errors assume that the covariance matrix of the errors is correctly specified.\n"
      ]
     },
     "metadata": {},
     "output_type": "display_data"
    }
   ],
   "source": [
    "new_psi = np.array([xi_1, xi_2, xi_3, xi_4]).transpose()\n",
    "new_psi = sm.add_constant(new_psi)\n",
    "\n",
    "new_model = sm.OLS(Y, new_psi).fit()\n",
    "console.print(new_model.summary())"
   ]
  },
  {
   "cell_type": "code",
   "execution_count": 190,
   "id": "ce1d8844",
   "metadata": {},
   "outputs": [
    {
     "data": {
      "text/html": [
       "<pre style=\"white-space:pre;overflow-x:auto;line-height:normal;font-family:Menlo,'DejaVu Sans Mono',consolas,'Courier New',monospace\">┏━━━━━━━━━━━━━┳━━━━━━━━━━━━━━━━━━━━━┳━━━━━━━━━━━━━━━━━━━━━━━━┳━━━━━━━━━━━━━━━━━┓\n",
       "┃<span style=\"color: #008000; text-decoration-color: #008000\"> Коэффициент </span>┃<span style=\"color: #008000; text-decoration-color: #008000\">      Значение       </span>┃<span style=\"color: #008000; text-decoration-color: #008000\">        p-value         </span>┃<span style=\"color: #008000; text-decoration-color: #008000\"> Значим/Незначим </span>┃\n",
       "┡━━━━━━━━━━━━━╇━━━━━━━━━━━━━━━━━━━━━╇━━━━━━━━━━━━━━━━━━━━━━━━╇━━━━━━━━━━━━━━━━━┩\n",
       "│     β0      │  2.215870461627834  │ 1.6758085064595705e-11 │     Значим      │\n",
       "│     β1      │ 2.3952667406243964  │ 7.997000149728115e-07  │     Значим      │\n",
       "│     β2      │ -1.8149657619787396 │ 0.00012087250341371483 │     Значим      │\n",
       "│     β3      │  1.314640553158202  │  0.003398127851135826  │     Значим      │\n",
       "│     β4      │ 1.6749061751529513  │ 0.00032995717583279155 │     Значим      │\n",
       "└─────────────┴─────────────────────┴────────────────────────┴─────────────────┘\n",
       "</pre>\n"
      ],
      "text/plain": [
       "┏━━━━━━━━━━━━━┳━━━━━━━━━━━━━━━━━━━━━┳━━━━━━━━━━━━━━━━━━━━━━━━┳━━━━━━━━━━━━━━━━━┓\n",
       "┃\u001b[32m \u001b[0m\u001b[32mКоэффициент\u001b[0m\u001b[32m \u001b[0m┃\u001b[32m \u001b[0m\u001b[32m     Значение      \u001b[0m\u001b[32m \u001b[0m┃\u001b[32m \u001b[0m\u001b[32m       p-value        \u001b[0m\u001b[32m \u001b[0m┃\u001b[32m \u001b[0m\u001b[32mЗначим/Незначим\u001b[0m\u001b[32m \u001b[0m┃\n",
       "┡━━━━━━━━━━━━━╇━━━━━━━━━━━━━━━━━━━━━╇━━━━━━━━━━━━━━━━━━━━━━━━╇━━━━━━━━━━━━━━━━━┩\n",
       "│     β0      │  2.215870461627834  │ 1.6758085064595705e-11 │     Значим      │\n",
       "│     β1      │ 2.3952667406243964  │ 7.997000149728115e-07  │     Значим      │\n",
       "│     β2      │ -1.8149657619787396 │ 0.00012087250341371483 │     Значим      │\n",
       "│     β3      │  1.314640553158202  │  0.003398127851135826  │     Значим      │\n",
       "│     β4      │ 1.6749061751529513  │ 0.00032995717583279155 │     Значим      │\n",
       "└─────────────┴─────────────────────┴────────────────────────┴─────────────────┘\n"
      ]
     },
     "metadata": {},
     "output_type": "display_data"
    }
   ],
   "source": [
    "F = np.dot(new_psi.transpose(), new_psi)\n",
    "F_inverse = np.linalg.inv(F)\n",
    "\n",
    "p = len(new_model.params)\n",
    "\n",
    "table = Table(show_header=True, header_style=\"green\")\n",
    "\n",
    "table.add_column(\"Коэффициент\", justify=\"center\")\n",
    "table.add_column(\"Значение\", justify=\"center\")\n",
    "table.add_column(\"p-value\", justify=\"center\")\n",
    "table.add_column(\"Значим/Незначим\", justify=\"center\")\n",
    "\n",
    "for i, beta_i in enumerate(new_model.params):\n",
    "    delta_wave = abs(beta_i / np.sqrt(new_model.ssr * F_inverse[i][i]) * np.sqrt(n - p))\n",
    "    p_value = 2 * t.sf(delta_wave, n - p)\n",
    "    table.add_row(f\"β{i}\", f\"{beta_i}\", f\"{p_value}\", f\"{'Значим' if p_value < alpha else 'Незначим'}\")\n",
    "\n",
    "console.print(table)"
   ]
  },
  {
   "cell_type": "code",
   "execution_count": 191,
   "id": "757f7211",
   "metadata": {},
   "outputs": [
    {
     "data": {
      "text/html": [
       "<pre style=\"white-space:pre;overflow-x:auto;line-height:normal;font-family:Menlo,'DejaVu Sans Mono',consolas,'Courier New',monospace\">Коэффициент детерминации, R² = <span style=\"color: #008080; text-decoration-color: #008080; font-weight: bold\">0.6412451961112076</span>\n",
       "</pre>\n"
      ],
      "text/plain": [
       "Коэффициент детерминации, R² = \u001b[1;36m0.6412451961112076\u001b[0m\n"
      ]
     },
     "metadata": {},
     "output_type": "display_data"
    },
    {
     "data": {
      "text/html": [
       "<pre style=\"white-space:pre;overflow-x:auto;line-height:normal;font-family:Menlo,'DejaVu Sans Mono',consolas,'Courier New',monospace\">p-value = <span style=\"color: #008080; text-decoration-color: #008080; font-weight: bold\">1.483402213874132e-09</span> &lt; <span style=\"color: #008080; text-decoration-color: #008080; font-weight: bold\">0.05</span>\n",
       "</pre>\n"
      ],
      "text/plain": [
       "p-value = \u001b[1;36m1.483402213874132e-09\u001b[0m < \u001b[1;36m0.05\u001b[0m\n"
      ]
     },
     "metadata": {},
     "output_type": "display_data"
    }
   ],
   "source": [
    "console.print(f\"Коэффициент детерминации, R² = {new_model.rsquared}\")\n",
    "\n",
    "RSS = new_model.ssr\n",
    "TSS = new_model.centered_tss\n",
    "\n",
    "delta_wave = ((TSS - RSS) / (p - 1)) / (RSS / (n - p))\n",
    "p_value = f.sf(delta_wave, p - 1, n - p)\n",
    "\n",
    "console.print(f\"p-value = {p_value} {'>' if p_value > alpha else '<'} {alpha}\")"
   ]
  },
  {
   "cell_type": "markdown",
   "id": "de329b60",
   "metadata": {},
   "source": [
    "### Так как p-value меньше 0.05, то коэффициент детерминации значим."
   ]
  },
  {
   "cell_type": "code",
   "execution_count": 192,
   "id": "b9a246e2",
   "metadata": {},
   "outputs": [
    {
     "data": {
      "text/html": [
       "<pre style=\"white-space:pre;overflow-x:auto;line-height:normal;font-family:Menlo,'DejaVu Sans Mono',consolas,'Courier New',monospace\">Δ = <span style=\"color: #008080; text-decoration-color: #008080; font-weight: bold\">4.750105845293967</span>\n",
       "</pre>\n"
      ],
      "text/plain": [
       "Δ = \u001b[1;36m4.750105845293967\u001b[0m\n"
      ]
     },
     "metadata": {},
     "output_type": "display_data"
    },
    {
     "data": {
      "text/html": [
       "<pre style=\"white-space:pre;overflow-x:auto;line-height:normal;font-family:Menlo,'DejaVu Sans Mono',consolas,'Courier New',monospace\">p-value = <span style=\"color: #008080; text-decoration-color: #008080; font-weight: bold\">0.03469234509910373</span> &lt; <span style=\"color: #008080; text-decoration-color: #008080; font-weight: bold\">0.05</span>\n",
       "</pre>\n"
      ],
      "text/plain": [
       "p-value = \u001b[1;36m0.03469234509910373\u001b[0m < \u001b[1;36m0.05\u001b[0m\n"
      ]
     },
     "metadata": {},
     "output_type": "display_data"
    }
   ],
   "source": [
    "RSS_0 = new_model.ssr\n",
    "RSS_1 = model.ssr\n",
    "\n",
    "p_0 = new_model.df_resid\n",
    "p_1 = model.df_resid\n",
    "\n",
    "delta = ((RSS_0 - RSS_1) * p_1) / (RSS_1 * (p_0 - p_1))\n",
    "\n",
    "p_value = f.sf(delta, p_0 - p_1, p_1)\n",
    "\n",
    "console.print(f\"Δ = {delta}\")\n",
    "console.print(f\"p-value = {p_value} {'>' if p_value > alpha else '<'} {alpha}\")"
   ]
  },
  {
   "cell_type": "markdown",
   "id": "154bff7d",
   "metadata": {},
   "source": [
    "### Так как p-value меньше 0.05, то мы отвергаем гипотезу. Значит, регрессии не равны."
   ]
  },
  {
   "cell_type": "markdown",
   "id": "bd573f9c",
   "metadata": {},
   "source": [
    "## k) Сравнить уравнения регрессии бутстрапом."
   ]
  },
  {
   "cell_type": "code",
   "execution_count": null,
   "id": "55947b39",
   "metadata": {},
   "outputs": [
    {
     "name": "stdout",
     "output_type": "stream",
     "text": [
      "0.03495629930296751\n"
     ]
    },
    {
     "data": {
      "text/html": [
       "<pre style=\"white-space:pre;overflow-x:auto;line-height:normal;font-family:Menlo,'DejaVu Sans Mono',consolas,'Courier New',monospace\">Доверительный интервал: <span style=\"font-weight: bold\">(</span><span style=\"color: #008080; text-decoration-color: #008080; font-weight: bold\">-0.17916349678828425</span>, <span style=\"color: #008080; text-decoration-color: #008080; font-weight: bold\">0.06979939311269812</span><span style=\"font-weight: bold\">)</span>, длина: <span style=\"color: #008080; text-decoration-color: #008080; font-weight: bold\">0.24896288990098236</span>\n",
       "</pre>\n"
      ],
      "text/plain": [
       "Доверительный интервал: \u001b[1m(\u001b[0m\u001b[1;36m-0.17916349678828425\u001b[0m, \u001b[1;36m0.06979939311269812\u001b[0m\u001b[1m)\u001b[0m, длина: \u001b[1;36m0.24896288990098236\u001b[0m\n"
      ]
     },
     "metadata": {},
     "output_type": "display_data"
    }
   ],
   "source": [
    "N = 1000\n",
    "beta = 0.95\n",
    "\n",
    "h_wave = model.rsquared - new_model.rsquared\n",
    "\n",
    "bootstrap_delta = []\n",
    "\n",
    "for _ in range(N):\n",
    "    subsample_psi = np.array(random.sample(list(psi), n))\n",
    "    subsample_model = sm.OLS(Y, subsample_psi).fit()\n",
    "\n",
    "    xi_0, xi_1, xi_2, xi_3, xi_4, xi_5 = subsample_psi.transpose()\n",
    "    \n",
    "    subsample_new_psi = np.array([xi_0, xi_1, xi_2, xi_3, xi_4]).transpose()\n",
    "    subsample_new_model = sm.OLS(Y, subsample_new_psi).fit()\n",
    "\n",
    "    bootstrap_delta.append(subsample_model.rsquared - subsample_new_model.rsquared - h_wave)\n",
    "\n",
    "variation_row = sorted(bootstrap_delta)\n",
    "\n",
    "delta_star_k = variation_row[int((1 - beta) * N)]\n",
    "\n",
    "lower_bound = h_wave - variation_row[-1]\n",
    "upper_bound = h_wave - delta_star_k\n",
    "\n",
    "console.print(f'Доверительный интервал: ({lower_bound}, {upper_bound}), длина: {upper_bound - lower_bound}')"
   ]
  },
  {
   "cell_type": "markdown",
   "id": "167d2b23",
   "metadata": {},
   "source": [
    "### Видно, что 0 принадлежит доверительному интервалу, а значит, что различие незначимо."
   ]
  }
 ],
 "metadata": {
  "kernelspec": {
   "display_name": ".venv",
   "language": "python",
   "name": "python3"
  },
  "language_info": {
   "codemirror_mode": {
    "name": "ipython",
    "version": 3
   },
   "file_extension": ".py",
   "mimetype": "text/x-python",
   "name": "python",
   "nbconvert_exporter": "python",
   "pygments_lexer": "ipython3",
   "version": "3.12.0"
  }
 },
 "nbformat": 4,
 "nbformat_minor": 5
}
