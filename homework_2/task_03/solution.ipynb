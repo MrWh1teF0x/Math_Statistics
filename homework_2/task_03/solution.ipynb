{
 "cells": [
  {
   "cell_type": "markdown",
   "id": "3b3939bb",
   "metadata": {},
   "source": [
    "# Задача 3\n",
    "## По трем значениям случайного вектора $({\\xi, \\eta, \\omega})$: $(1, 0, 1)$, $(0, 1, 5)$ и $(1, 1, 2)$:"
   ]
  },
  {
   "cell_type": "markdown",
   "id": "380590f3",
   "metadata": {},
   "source": [
    "## a) Найти уравнение линейной регрессии ${\\omega = a\\xi + b\\eta}$;"
   ]
  },
  {
   "cell_type": "code",
   "execution_count": 54,
   "id": "55d247f4",
   "metadata": {},
   "outputs": [
    {
     "data": {
      "text/html": [
       "<pre style=\"white-space:pre;overflow-x:auto;line-height:normal;font-family:Menlo,'DejaVu Sans Mono',consolas,'Courier New',monospace\">┏━━━━━━━━━━━━━┳━━━━━━━━━━┳━━━━━━━━━━━━━━━━━━━━┳━━━━━━━━━━━━━━━━━┓\n",
       "┃<span style=\"color: #008000; text-decoration-color: #008000\"> Коэффициент </span>┃<span style=\"color: #008000; text-decoration-color: #008000\"> Значение </span>┃<span style=\"color: #008000; text-decoration-color: #008000\">      p-value       </span>┃<span style=\"color: #008000; text-decoration-color: #008000\"> Значим/Незначим </span>┃\n",
       "┡━━━━━━━━━━━━━╇━━━━━━━━━━╇━━━━━━━━━━━━━━━━━━━━╇━━━━━━━━━━━━━━━━━┩\n",
       "│     β0      │  -0.333  │ 0.8886112459769362 │    Незначим     │\n",
       "│     β1      │  3.667   │ 0.3023880300802917 │    Незначим     │\n",
       "└─────────────┴──────────┴────────────────────┴─────────────────┘\n",
       "</pre>\n"
      ],
      "text/plain": [
       "┏━━━━━━━━━━━━━┳━━━━━━━━━━┳━━━━━━━━━━━━━━━━━━━━┳━━━━━━━━━━━━━━━━━┓\n",
       "┃\u001b[32m \u001b[0m\u001b[32mКоэффициент\u001b[0m\u001b[32m \u001b[0m┃\u001b[32m \u001b[0m\u001b[32mЗначение\u001b[0m\u001b[32m \u001b[0m┃\u001b[32m \u001b[0m\u001b[32m     p-value      \u001b[0m\u001b[32m \u001b[0m┃\u001b[32m \u001b[0m\u001b[32mЗначим/Незначим\u001b[0m\u001b[32m \u001b[0m┃\n",
       "┡━━━━━━━━━━━━━╇━━━━━━━━━━╇━━━━━━━━━━━━━━━━━━━━╇━━━━━━━━━━━━━━━━━┩\n",
       "│     β0      │  -0.333  │ 0.8886112459769362 │    Незначим     │\n",
       "│     β1      │  3.667   │ 0.3023880300802917 │    Незначим     │\n",
       "└─────────────┴──────────┴────────────────────┴─────────────────┘\n"
      ]
     },
     "metadata": {},
     "output_type": "display_data"
    }
   ],
   "source": [
    "import numpy as np\n",
    "import matplotlib.pyplot as plt\n",
    "from sklearn.linear_model import Ridge\n",
    "from sklearn.model_selection import cross_val_score\n",
    "from sklearn.linear_model import Lasso\n",
    "from rich.table import Table\n",
    "from scipy.stats import t, f, norm\n",
    "from rich.console import Console\n",
    "import matplotlib.pyplot as plt\n",
    "import numpy as np\n",
    "from sklearn.linear_model import Ridge\n",
    "from sklearn.linear_model import Lasso\n",
    "\n",
    "\n",
    "alpha = 0.05\n",
    "console = Console()\n",
    "\n",
    "data = np.array([[1, 0, 1], [0, 1, 5], [1, 1, 2]])\n",
    "\n",
    "PSI = np.array([[1, 0], [0, 1], [1, 1]])\n",
    "Y = np.array([1, 5, 2])\n",
    "\n",
    "F = np.dot(PSI.transpose(), PSI)\n",
    "F_inverse = np.linalg.inv(F)\n",
    "\n",
    "beta_wave = np.dot(np.dot(F_inverse, PSI.transpose()), Y)\n",
    "\n",
    "table = Table(show_header=True, header_style=\"green\")\n",
    "table.add_column(\"Коэффициент\", justify=\"center\")\n",
    "table.add_column(\"Значение\", justify=\"center\")\n",
    "table.add_column(\"p-value\", justify=\"center\")\n",
    "table.add_column(\"Значим/Незначим\", justify=\"center\")\n",
    "\n",
    "e = np.array(Y - np.dot(PSI, beta_wave))\n",
    "\n",
    "RSS = np.dot(e.transpose(), e)\n",
    "\n",
    "n = len(PSI)\n",
    "p = len(beta_wave)\n",
    "\n",
    "for i, beta_i in enumerate(beta_wave):\n",
    "    delta_wave = abs(beta_i / np.sqrt(RSS * F_inverse[i][i]) * np.sqrt(n - p))\n",
    "    p_value = 2 * t.sf(delta_wave, n - p)\n",
    "    table.add_row(\n",
    "        f\"β{i}\",\n",
    "        f\"{beta_i:.3f}\",\n",
    "        f\"{p_value}\",\n",
    "        f\"{'Значим' if p_value < alpha else 'Незначим'}\",\n",
    "    )\n",
    "\n",
    "console.print(table)"
   ]
  },
  {
   "cell_type": "markdown",
   "id": "721643cc",
   "metadata": {},
   "source": [
    "### Уравнение линейной регрессии: $${\\omega = -0.333\\xi + 3.667\\eta},$$"
   ]
  },
  {
   "cell_type": "markdown",
   "id": "a39dc14b",
   "metadata": {},
   "source": [
    "\n",
    "## b) Найти уравнение ridge регрессии ${\\omega = a\\xi + b\\eta}$, построить график CVSS и определить значение параметра регуляризации;"
   ]
  },
  {
   "cell_type": "code",
   "execution_count": 55,
   "id": "61a905be",
   "metadata": {},
   "outputs": [
    {
     "ename": "TypeError",
     "evalue": "'float' object is not callable",
     "output_type": "error",
     "traceback": [
      "\u001b[31m---------------------------------------------------------------------------\u001b[39m",
      "\u001b[31mTypeError\u001b[39m                                 Traceback (most recent call last)",
      "\u001b[36mCell\u001b[39m\u001b[36m \u001b[39m\u001b[32mIn[55]\u001b[39m\u001b[32m, line 13\u001b[39m\n\u001b[32m     10\u001b[39m train_y = \u001b[38;5;28mlist\u001b[39m(Y)\n\u001b[32m     11\u001b[39m test_y = train_y.pop(j)\n\u001b[32m---> \u001b[39m\u001b[32m13\u001b[39m ridge = Ridge(alpha=\u001b[43malpha\u001b[49m\u001b[43m(\u001b[49m\u001b[43mi\u001b[49m\u001b[43m)\u001b[49m, fit_intercept=\u001b[38;5;28;01mFalse\u001b[39;00m, max_iter=\u001b[32m10000\u001b[39m).fit(\n\u001b[32m     14\u001b[39m     train_x, train_y\n\u001b[32m     15\u001b[39m )\n\u001b[32m     17\u001b[39m y_wave = np.dot(ridge.coef_, test_x)\n\u001b[32m     19\u001b[39m CVSS[i] += (test_y - y_wave) ** \u001b[32m2\u001b[39m\n",
      "\u001b[31mTypeError\u001b[39m: 'float' object is not callable"
     ]
    }
   ],
   "source": [
    "N = 10000\n",
    "CVSS = []\n",
    "\n",
    "for i in range(N):\n",
    "    CVSS.append(0)\n",
    "    for j in range(3):\n",
    "        train_x = list(PSI)\n",
    "        test_x = train_x.pop(j)\n",
    "\n",
    "        train_y = list(Y)\n",
    "        test_y = train_y.pop(j)\n",
    "\n",
    "        ridge = Ridge(alpha=alpha(i), fit_intercept=False, max_iter=10000).fit(\n",
    "            train_x, train_y\n",
    "        )\n",
    "\n",
    "        y_wave = np.dot(ridge.coef_, test_x)\n",
    "\n",
    "        CVSS[i] += (test_y - y_wave) ** 2\n",
    "\n",
    "alpha_opt = alpha(CVSS.index(min(CVSS)))\n",
    "console.print(f\"Оптимальное α = {alpha_opt}\")\n",
    "\n",
    "ridge_opt = Ridge(alpha=alpha_opt, fit_intercept=False, max_iter=10000).fit(PSI, Y)\n",
    "\n",
    "table = Table(show_header=True, header_style=\"green\")\n",
    "table.add_column(\"Коэффициент\", justify=\"center\")\n",
    "table.add_column(\"Значение\", justify=\"center\")\n",
    "\n",
    "for i in range(len(ridge_opt.coef_)):\n",
    "    table.add_row(f\"β{i}\", f\"{ridge_opt.coef_[i]:.3f}\")\n",
    "\n",
    "console.print(f\"Коэффициенты ridge регрессии:\")\n",
    "console.print(table)"
   ]
  },
  {
   "cell_type": "markdown",
   "id": "09ccaf37",
   "metadata": {},
   "source": [
    "### Уравнение ridge регрессии: $${\\omega = 0.312\\xi + 1.908\\eta},$$"
   ]
  },
  {
   "cell_type": "code",
   "execution_count": null,
   "id": "7d68671d",
   "metadata": {},
   "outputs": [
    {
     "data": {
      "image/png": "[encoded data removed]",
      "text/plain": [
       "<Figure size 640x480 with 1 Axes>"
      ]
     },
     "metadata": {},
     "output_type": "display_data"
    }
   ],
   "source": [
    "plt.plot(np.linspace(0, 10, N), CVSS, color=\"blue\")\n",
    "\n",
    "plt.xlabel(\"α\")\n",
    "plt.ylabel(\"CVSS\")\n",
    "plt.title(\"Ridge регрессия\")\n",
    "plt.grid(True)\n",
    "plt.axvline(\n",
    "    alpha_opt, color=\"red\", linestyle=\"--\", label=f\"Оптимальное α = {alpha_opt:.4f}\"\n",
    ")\n",
    "plt.legend()\n",
    "plt.show()"
   ]
  },
  {
   "cell_type": "markdown",
   "id": "477983da",
   "metadata": {},
   "source": [
    "## c) Найти уравнение lasso регрессии ${\\omega = a\\xi + b\\eta}$, построить график CVSS и определить значение параметра регуляризации."
   ]
  },
  {
   "cell_type": "code",
   "execution_count": null,
   "id": "342d2d8e",
   "metadata": {},
   "outputs": [
    {
     "data": {
      "text/html": [
       "<pre style=\"white-space:pre;overflow-x:auto;line-height:normal;font-family:Menlo,'DejaVu Sans Mono',consolas,'Courier New',monospace\">Оптимальное α = <span style=\"color: #008080; text-decoration-color: #008080; font-weight: bold\">1.5</span>\n",
       "</pre>\n"
      ],
      "text/plain": [
       "Оптимальное α = \u001b[1;36m1.5\u001b[0m\n"
      ]
     },
     "metadata": {},
     "output_type": "display_data"
    },
    {
     "data": {
      "text/html": [
       "<pre style=\"white-space:pre;overflow-x:auto;line-height:normal;font-family:Menlo,'DejaVu Sans Mono',consolas,'Courier New',monospace\">Коэффициенты lasso регрессии:\n",
       "</pre>\n"
      ],
      "text/plain": [
       "Коэффициенты lasso регрессии:\n"
      ]
     },
     "metadata": {},
     "output_type": "display_data"
    },
    {
     "data": {
      "text/html": [
       "<pre style=\"white-space:pre;overflow-x:auto;line-height:normal;font-family:Menlo,'DejaVu Sans Mono',consolas,'Courier New',monospace\">┏━━━━━━━━━━━━━┳━━━━━━━━━━┓\n",
       "┃<span style=\"color: #008000; text-decoration-color: #008000\"> Коэффициент </span>┃<span style=\"color: #008000; text-decoration-color: #008000\"> Значение </span>┃\n",
       "┡━━━━━━━━━━━━━╇━━━━━━━━━━┩\n",
       "│     β0      │  0.000   │\n",
       "│     β1      │  1.250   │\n",
       "└─────────────┴──────────┘\n",
       "</pre>\n"
      ],
      "text/plain": [
       "┏━━━━━━━━━━━━━┳━━━━━━━━━━┓\n",
       "┃\u001b[32m \u001b[0m\u001b[32mКоэффициент\u001b[0m\u001b[32m \u001b[0m┃\u001b[32m \u001b[0m\u001b[32mЗначение\u001b[0m\u001b[32m \u001b[0m┃\n",
       "┡━━━━━━━━━━━━━╇━━━━━━━━━━┩\n",
       "│     β0      │  0.000   │\n",
       "│     β1      │  1.250   │\n",
       "└─────────────┴──────────┘\n"
      ]
     },
     "metadata": {},
     "output_type": "display_data"
    }
   ],
   "source": [
    "N = 10000\n",
    "CVSS = []\n",
    "\n",
    "for i in range(N):\n",
    "    CVSS.append(0)\n",
    "    for j in range(3):\n",
    "        train_x = list(PSI)\n",
    "        test_x = train_x.pop(j)\n",
    "\n",
    "        train_y = list(Y)\n",
    "        test_y = train_y.pop(j)\n",
    "\n",
    "        lasso = Lasso(alpha=alpha(i), fit_intercept=False, max_iter=10000).fit(\n",
    "            train_x, train_y\n",
    "        )\n",
    "\n",
    "        y_wave = np.dot(lasso.coef_, test_x)\n",
    "\n",
    "        CVSS[i] += (test_y - y_wave) ** 2\n",
    "\n",
    "alpha_opt = alpha(CVSS.index(min(CVSS)))\n",
    "console.print(f\"Оптимальное α = {alpha_opt}\")\n",
    "\n",
    "lasso_opt = Lasso(alpha=alpha_opt, fit_intercept=False, max_iter=10000).fit(PSI, Y)\n",
    "\n",
    "table = Table(show_header=True, header_style=\"green\")\n",
    "table.add_column(\"Коэффициент\", justify=\"center\")\n",
    "table.add_column(\"Значение\", justify=\"center\")\n",
    "\n",
    "for i in range(len(lasso_opt.coef_)):\n",
    "    table.add_row(f\"β{i}\", f\"{lasso_opt.coef_[i]:.3f}\")\n",
    "\n",
    "console.print(f\"Коэффициенты lasso регрессии:\")\n",
    "console.print(table)"
   ]
  },
  {
   "cell_type": "markdown",
   "id": "9692e5ca",
   "metadata": {},
   "source": [
    "### Уравнение lasso регрессии: $${\\omega = 0\\xi + 1.25\\eta},$$"
   ]
  },
  {
   "cell_type": "code",
   "execution_count": null,
   "id": "ce3f7410",
   "metadata": {},
   "outputs": [
    {
     "data": {
      "image/png": "[encoded data removed]",
      "text/plain": [
       "<Figure size 640x480 with 1 Axes>"
      ]
     },
     "metadata": {},
     "output_type": "display_data"
    }
   ],
   "source": [
    "plt.plot(np.linspace(0, 10, N), CVSS, color=\"blue\")\n",
    "\n",
    "plt.xlabel(\"α\")\n",
    "plt.ylabel(\"CVSS\")\n",
    "plt.title(\"Lasso регрессия\")\n",
    "plt.grid(True)\n",
    "plt.axvline(\n",
    "    alpha_opt, color=\"red\", linestyle=\"--\", label=f\"Оптимальное α = {alpha_opt:.4f}\"\n",
    ")\n",
    "plt.legend()\n",
    "plt.show()"
   ]
  }
 ],
 "metadata": {
  "kernelspec": {
   "display_name": ".venv",
   "language": "python",
   "name": "python3"
  },
  "language_info": {
   "codemirror_mode": {
    "name": "ipython",
    "version": 3
   },
   "file_extension": ".py",
   "mimetype": "text/x-python",
   "name": "python",
   "nbconvert_exporter": "python",
   "pygments_lexer": "ipython3",
   "version": "3.12.0"
  }
 },
 "nbformat": 4,
 "nbformat_minor": 5
}
